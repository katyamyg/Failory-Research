{
 "cells": [
  {
   "cell_type": "code",
   "execution_count": 1,
   "metadata": {},
   "outputs": [],
   "source": [
    "import pickle\n",
    "from sklearn.feature_extraction.text import CountVectorizer\n",
    "import plotly.express as px\n",
    "import pandas as pd\n",
    "import re"
   ]
  },
  {
   "cell_type": "code",
   "execution_count": 2,
   "metadata": {},
   "outputs": [],
   "source": [
    "from urllib.request import urlopen\n",
    "from bs4 import BeautifulSoup"
   ]
  },
  {
   "cell_type": "code",
   "execution_count": 4,
   "metadata": {},
   "outputs": [],
   "source": [
    "import unicodedata"
   ]
  },
  {
   "cell_type": "code",
   "execution_count": 6,
   "metadata": {},
   "outputs": [
    {
     "name": "stdout",
     "output_type": "stream",
     "text": [
      "Requirement already satisfied: selenium in c:\\programdata\\anaconda\\lib\\site-packages (4.15.0)\n",
      "Requirement already satisfied: urllib3[socks]<3,>=1.26 in c:\\programdata\\anaconda\\lib\\site-packages (from selenium) (1.26.14)\n",
      "Requirement already satisfied: trio-websocket~=0.9 in c:\\programdata\\anaconda\\lib\\site-packages (from selenium) (0.11.1)\n",
      "Requirement already satisfied: certifi>=2021.10.8 in c:\\programdata\\anaconda\\lib\\site-packages (from selenium) (2023.7.22)\n",
      "Requirement already satisfied: trio~=0.17 in c:\\programdata\\anaconda\\lib\\site-packages (from selenium) (0.22.2)\n",
      "Requirement already satisfied: exceptiongroup>=1.0.0rc9 in c:\\programdata\\anaconda\\lib\\site-packages (from trio~=0.17->selenium) (1.1.3)\n",
      "Requirement already satisfied: sniffio in c:\\programdata\\anaconda\\lib\\site-packages (from trio~=0.17->selenium) (1.2.0)\n",
      "Requirement already satisfied: sortedcontainers in c:\\programdata\\anaconda\\lib\\site-packages (from trio~=0.17->selenium) (2.4.0)\n",
      "Requirement already satisfied: attrs>=20.1.0 in c:\\programdata\\anaconda\\lib\\site-packages (from trio~=0.17->selenium) (22.1.0)\n",
      "Requirement already satisfied: outcome in c:\\programdata\\anaconda\\lib\\site-packages (from trio~=0.17->selenium) (1.3.0.post0)\n",
      "Requirement already satisfied: cffi>=1.14 in c:\\programdata\\anaconda\\lib\\site-packages (from trio~=0.17->selenium) (1.15.1)\n",
      "Requirement already satisfied: idna in c:\\programdata\\anaconda\\lib\\site-packages (from trio~=0.17->selenium) (3.4)\n",
      "Requirement already satisfied: wsproto>=0.14 in c:\\programdata\\anaconda\\lib\\site-packages (from trio-websocket~=0.9->selenium) (1.2.0)\n",
      "Requirement already satisfied: PySocks!=1.5.7,<2.0,>=1.5.6 in c:\\programdata\\anaconda\\lib\\site-packages (from urllib3[socks]<3,>=1.26->selenium) (1.7.1)\n",
      "Requirement already satisfied: pycparser in c:\\programdata\\anaconda\\lib\\site-packages (from cffi>=1.14->trio~=0.17->selenium) (2.21)\n",
      "Requirement already satisfied: h11<1,>=0.9.0 in c:\\programdata\\anaconda\\lib\\site-packages (from wsproto>=0.14->trio-websocket~=0.9->selenium) (0.14.0)\n",
      "Note: you may need to restart the kernel to use updated packages.\n"
     ]
    }
   ],
   "source": [
    "pip install selenium"
   ]
  },
  {
   "cell_type": "code",
   "execution_count": 7,
   "metadata": {},
   "outputs": [],
   "source": [
    "import selenium\n",
    "from selenium import webdriver"
   ]
  },
  {
   "cell_type": "code",
   "execution_count": 8,
   "metadata": {},
   "outputs": [],
   "source": [
    "from selenium.webdriver.support.ui import WebDriverWait"
   ]
  },
  {
   "cell_type": "code",
   "execution_count": 9,
   "metadata": {},
   "outputs": [],
   "source": [
    "import time"
   ]
  },
  {
   "cell_type": "code",
   "execution_count": 10,
   "metadata": {},
   "outputs": [
    {
     "name": "stderr",
     "output_type": "stream",
     "text": [
      "C:\\ProgramData\\Anaconda\\lib\\site-packages\\sklearn\\base.py:299: UserWarning: Trying to unpickle estimator LogisticRegression from version 0.22.1 when using version 1.2.1. This might lead to breaking code or invalid results. Use at your own risk. For more info please refer to:\n",
      "https://scikit-learn.org/stable/model_persistence.html#security-maintainability-limitations\n",
      "  warnings.warn(\n",
      "C:\\ProgramData\\Anaconda\\lib\\site-packages\\sklearn\\base.py:299: UserWarning: Trying to unpickle estimator DecisionTreeClassifier from version 0.22.1 when using version 1.2.1. This might lead to breaking code or invalid results. Use at your own risk. For more info please refer to:\n",
      "https://scikit-learn.org/stable/model_persistence.html#security-maintainability-limitations\n",
      "  warnings.warn(\n",
      "C:\\ProgramData\\Anaconda\\lib\\site-packages\\sklearn\\base.py:299: UserWarning: Trying to unpickle estimator RandomForestClassifier from version 0.22.1 when using version 1.2.1. This might lead to breaking code or invalid results. Use at your own risk. For more info please refer to:\n",
      "https://scikit-learn.org/stable/model_persistence.html#security-maintainability-limitations\n",
      "  warnings.warn(\n",
      "C:\\ProgramData\\Anaconda\\lib\\site-packages\\sklearn\\base.py:299: UserWarning: Trying to unpickle estimator CountVectorizer from version 0.22.1 when using version 1.2.1. This might lead to breaking code or invalid results. Use at your own risk. For more info please refer to:\n",
      "https://scikit-learn.org/stable/model_persistence.html#security-maintainability-limitations\n",
      "  warnings.warn(\n"
     ]
    }
   ],
   "source": [
    "cEXT = pickle.load( open( \"C:/Users/i.adamlyuk/Downloads/cEXT.p\", \"rb\"))\n",
    "cNEU = pickle.load( open( \"C:/Users/i.adamlyuk/Downloads/cNEU.p\", \"rb\"))\n",
    "cAGR = pickle.load( open( \"C:/Users/i.adamlyuk/Downloads/cAGR.p\", \"rb\"))\n",
    "cCON = pickle.load( open( \"C:/Users/i.adamlyuk/Downloads/cCON.p\", \"rb\"))\n",
    "cOPN = pickle.load( open( \"C:/Users/i.adamlyuk/Downloads/cOPN.p\", \"rb\"))\n",
    "vectorizer_31 = pickle.load( open( \"C:/Users/i.adamlyuk/Downloads/vectorizer_31.p\", \"rb\"))\n",
    "vectorizer_30 = pickle.load( open( \"C:/Users/i.adamlyuk/Downloads/vectorizer_30.p\", \"rb\"))"
   ]
  },
  {
   "cell_type": "code",
   "execution_count": 11,
   "metadata": {},
   "outputs": [],
   "source": [
    "def predict_personality(text):\n",
    "    scentences = re.split(\"(?<=[.!?]) +\", text)\n",
    "    text_vector_31 = vectorizer_31.transform(scentences)\n",
    "    text_vector_30 = vectorizer_30.transform(scentences)\n",
    "    EXT = cEXT.predict(text_vector_31)\n",
    "    NEU = cNEU.predict(text_vector_30)\n",
    "    AGR = cAGR.predict(text_vector_31)\n",
    "    CON = cCON.predict(text_vector_31)\n",
    "    OPN = cOPN.predict(text_vector_31)\n",
    "    return [EXT[0], NEU[0], AGR[0], CON[0], OPN[0]]\n"
   ]
  },
  {
   "cell_type": "code",
   "execution_count": 12,
   "metadata": {},
   "outputs": [],
   "source": [
    "def predict_personality_ext(text):\n",
    "    scentences = re.split(\"(?<=[.!?]) +\", text)\n",
    "    text_vector_31 = vectorizer_31.transform(scentences)\n",
    "    EXT = cEXT.predict(text_vector_31)\n",
    "    return EXT[0]"
   ]
  },
  {
   "cell_type": "code",
   "execution_count": 13,
   "metadata": {},
   "outputs": [],
   "source": [
    "def predict_personality_neu(text):\n",
    "    scentences = re.split(\"(?<=[.!?]) +\", text)\n",
    "    text_vector_30 = vectorizer_30.transform(scentences)\n",
    "    NEU = cNEU.predict(text_vector_30)\n",
    "    return NEU[0]"
   ]
  },
  {
   "cell_type": "code",
   "execution_count": 14,
   "metadata": {},
   "outputs": [],
   "source": [
    "def predict_personality_agr(text):\n",
    "    scentences = re.split(\"(?<=[.!?]) +\", text)\n",
    "    text_vector_31 = vectorizer_31.transform(scentences)\n",
    "    AGR = cAGR.predict(text_vector_31)\n",
    "    return AGR[0]"
   ]
  },
  {
   "cell_type": "code",
   "execution_count": 15,
   "metadata": {},
   "outputs": [],
   "source": [
    "def predict_personality_con(text):\n",
    "    scentences = re.split(\"(?<=[.!?]) +\", text)\n",
    "    text_vector_31 = vectorizer_31.transform(scentences)\n",
    "    CON = cCON.predict(text_vector_31)\n",
    "    return CON[0]"
   ]
  },
  {
   "cell_type": "code",
   "execution_count": 16,
   "metadata": {},
   "outputs": [],
   "source": [
    "def predict_personality_opn(text):\n",
    "    scentences = re.split(\"(?<=[.!?]) +\", text)\n",
    "    text_vector_31 = vectorizer_31.transform(scentences)\n",
    "    OPN = cOPN.predict(text_vector_31)\n",
    "    return OPN[0]"
   ]
  },
  {
   "cell_type": "code",
   "execution_count": 17,
   "metadata": {},
   "outputs": [],
   "source": [
    "def remove_control_characters(s):\n",
    "    s = unicodedata.normalize(\"NFKD\", s)\n",
    "    return \"\".join(ch for ch in s if unicodedata.category(ch)[0]!=\"C\")\n",
    "\n",
    "# очищаем код от выбранных элементов\n",
    "def delete_div(code, tag, arg):\n",
    "    # находим все указанные теги с параметрами\n",
    "    for div in code.find_all(tag, arg):\n",
    "        # и удаляем их из кода\n",
    "        div.decompose()\n",
    "\n",
    "\n",
    "def clear_text(url):\n",
    "    # получаем исходный код страницы\n",
    "    inner_html_code = str(urlopen(url).read(), 'utf-8')\n",
    "\n",
    "    # отправляем исходный код страницы на обработку в библиотеку\n",
    "    inner_soup = BeautifulSoup(inner_html_code, \"html.parser\")\n",
    "    \n",
    "    # оставляем только блок с содержимым статьи\n",
    "    inner_soup = inner_soup.find('div', {\"id\": 'content'})\n",
    "\n",
    "    # удаляем ненужное\n",
    "    delete_div(inner_soup, \"p\", {'class': 'content-summary'})\n",
    "    delete_div(inner_soup, \"div\", {'class': 'hidden-computer-only'})\n",
    "    delete_div(inner_soup, \"div\", {'class': 'newsletter-subscribe-card'})\n",
    "    \n",
    "    # ищем статус проекта успешный/неудачный \n",
    "    status = BeautifulSoup(inner_html_code, \"html.parser\").find('div', {'class':\"w-condition-invisible\"}).attrs.get('class')[0]\n",
    "    if status == 'section-interview-failure':\n",
    "        status = 1 #success\n",
    "    else:\n",
    "        status = 0 #fail  \n",
    "    return (remove_control_characters(inner_soup.get_text()), status)\n",
    "\n",
    "\n",
    "def find_articles(inner_html_code, max_size):\n",
    "    # получаем исходный код страницы\n",
    "    position = 0\n",
    "    urls = []\n",
    "#     inner_html_code = str(urlopen(url).read(), 'utf-8')\n",
    "#     inner_soup = BeautifulSoup(inner_html_code, \"html.parser\")\n",
    "    block = inner_html_code.find('div', {'class': 'w-dyn-items'})\n",
    "    for a_tag in block.findAll(\"a\"):\n",
    "        if position == max_size:\n",
    "            break\n",
    "        position += 1\n",
    "        href = a_tag.attrs.get(\"href\").split('/')[-1]\n",
    "        urls.append(href)\n",
    "    print(\"len = \", len(urls))\n",
    "    return urls"
   ]
  },
  {
   "cell_type": "code",
   "execution_count": 20,
   "metadata": {},
   "outputs": [
    {
     "name": "stdout",
     "output_type": "stream",
     "text": [
      "ready\n"
     ]
    }
   ],
   "source": [
    "main_url = 'https://www.failory.com'\n",
    "interviews_href = main_url + '/interviews'\n",
    "one_interview_href = main_url + '/interview/'\n",
    "size = 300\n",
    "# driver = webdriver.PhantomJS(executable_path='phantomjs.exe')\n",
    "# path = \"C:\\Users\\89165\\DidenkoResearch\\personality-prediction-from-text\\chromedriver_win32\\chromedriver.exe\"\n",
    "# driver = webdriver.Chrome(r'C:\\Users\\89165\\DidenkoResearch\\personality-prediction-from-text\\chromedriver_win32\\chromedriver.exe')\n",
    "# driver = webdriver.Chrome()\n",
    "# driver= webdriver.Chrome(executable_path=r'C:\\Users\\89165\\DidenkoResearch\\personality-prediction-from-text\\chromedriver_win32\\chromedriver.exe')\n",
    "# driver.get(interviews_href)\n",
    "#This code will scroll down to the end\n",
    "# while True:\n",
    "#     try:\n",
    "#         driver.execute_script(\"window.scrollTo(0, document.body.scrollHeight);\")\n",
    "#         break\n",
    "#     except: \n",
    "#         pass\n",
    "# time.sleep(35)\n",
    "# html = BeautifulSoup(driver.page_source)\n",
    "# interviews_hrefs = find_articles(html, size)\n",
    "interviews_hrefs = ['denbertech', 'starsync', 'publoft', 'benja', 'observa', 'weplate', 'design-in-dc', 'finmasters', 'tweet-hunter', 'woovly', 'basetemplates', 'sisu-academy', 'corebook', 'headlime', 'plutoview', 'fibery', 'wotnot', 'vimcal', 'bildr', 'reform', 'photobooth-supply', 'zenmaid', 'upvoty', 'gorails', 'tactiq', 'rize', 'tally', 'syria-airlift-project', 'microconf', 'zenoutreach', 'mubert', 'marketmuse', 'headway', 'inked-sports', 'crabi', 'snapshooter', 'photopea', 'siempo', 'akko', 'feedcheck', 'manyrequests', 'xena-intelligence', 'css-for-js-developers', 'zogics', 'lifewave', 'aplano', 'ombori', 'financer', 'hawkers', 'bizzbee', 'leilo', 'embarque', 'freshconnect', 'no-code-founders', 'endeavorun', 'frontend-mentor', 'resumemaker', 'locationrebel', 'flexiple-2021', 'edlatimore', 'mycity', 'blogging-for-devs', 'patron-ai', 'the-agent-nest', 'raw-gains', 'flexy', 'adproval', 'young-entrepreneurs-program', 'strengthrunning', 'viewst', 'growsurf', 'localtown', 'bounce', 'awesomic', 'swagup', 'mentorcruise', 'impossible', 'hello-tyro', 'refolo', 'copyai', 'kimp', 'pactero', 'refrens', 'qor360', 'sinoficina', 'openmargin', 'cam-ly', 'vacation-bird', 'scraper-api', 'cold-email-studio', 'ringdaddy', 'station', 'juice-startup', 'toki', 'vidico', 'reality-hunt', 'creator-growth-lab', 'salonist', 'lernin-games', 'career-sidekick', 'teacher-finder', 'the-careside', 'deluxemaid', 'formatically', 'nogood', 'newco', 'simplelogin', 'melon', 'my-auto-shop', 'circle', 'henry', 'stacking-the-bricks', 'visualsitemaps', 'eola', 'sofetch', 'linkody', 'uptrend', 'inovvorx', 'unicorn-platform', 'vulpine', 'softwareideas', 'plausible', 'kamua', 'zapstream', 'repairdesk', 'stronger-u', 'graphite-docs', 'habitual', 'pathways', 'buttercloth', 'thepresence', 'adleaf-technologies', 'colorado-mobile-drug-testing', 'watu', 'hawthorne-strategies', 'curiouscheck', 'rent-nest', 'scout', 'rent-round', 'swoop', 'kopely', 'helpwise', 'dotahaven', 'lunch-money', 'bunnyshell', 'tuff', 'cuddli', 'mailbrew', 'friday', 'processkit', '101-studios', 'ne-lounge', 'wavve', 'lemlist', 'teamometer', 'kaya-gs', 'dream-client-academy', 'habitify', 'motionthink', 'kolos', 'branch', 'scalefusion', 'price2spy', 'community-coders', 'yottio', 'patriot-chimney', 'ansaro', 'scrapingbee', 'swipes', 'crossnet', 'playdate', 'okami-pack', 'gawkbox', 'waydev', 'vo2-sportswear', 'sport-draftr', 'mealsurfers', 'tali', 'gulp', 'imaginovation', 'readership', 'flexiple', 'mangools', 'qwaiting', 'stone', 'mongoose-cricket', 'standuply', 'claimcompass', 'justreachout', '140-canvas', 'festivilia', 'oneup', 'singulution', 'encharge', 'narcine', 'nox', 'growthmentor', 'wedmap', 'campertunity', 'aura', 'profitabilly', 'rankd-seo', 'emit', 'tailor', 'hubrif', 'repitchbook', 'nerdpilots', 'growth-cave', 'genm', 'hyperstarter', 'pagestead', '10er', 'canary', 'combat-flip-flops', 'hubstaff', 'pull-reminders', 'lets-reach-success', 'seomator', 'metricspot', 'pear-cards', 'dick-at-your-door', 'one-hour-professor', '40-aprons', 'reroute-lifestyle', 'leadsbridge', 'beardbrand', 'posture-keeper', 'trackin', 'joker-greeting', 'browserless', 'urban-masterclass', 'iwantthatflight', 'park-io', 'matboard-and-more', 'scream-pretty', 'rayna-tours', 'onak', 'liveagent', 'puppet-pelts', 'gadget-flow', 'content-snare', 'bugfender', 'spuds', 'tandem-app', 'wantremotejob', 'lieferoo', 'twitch-highlights', 'jobridge', 'haptly', 'chowdy', 'zor-technology', 'the-punjab-kitchen', 'taleship', 'eventloot', 'hashtag-pirate', 'phez', 'muun', 'fantastic-house-buyers', 'wura', 'bediwin-information-services', 'ink', 'explorevr', 'autto-in', 'lockpick-entertainment', 'worldos', 'birdy', 'motobox', 'the-nerd-cave', 'knownet', 'legaats', 'onepagetrip', 'busymind', 'botnim', 'ropero', 'gameslog', 'abby', 'beehiveid', 'delite', 'phoenix', 'addressbin', 'vivalatina', 'mishra-motors', 'team-voice', 'quickhaggle', 'boston-apartment-hub', 'tandem', 'toygaroo', 'flux', 'hot-barber', 'brisk', 'eloquis', 'hitronasplet', 'sharkius', 'gymlisted', 'waterproof-digital-camera', 'asktina', 'the-blogging-manifesto', 'howell-market']\n",
    "interviews_full_hrefs = [one_interview_href + interviews_hrefs[i] for i in range(0, len(interviews_hrefs))]\n",
    "text_list = []\n",
    "for href in interviews_full_hrefs:\n",
    "    text_list.append([clear_text(href),href])\n",
    "print(\"ready\")"
   ]
  },
  {
   "cell_type": "code",
   "execution_count": 19,
   "metadata": {
    "scrolled": true
   },
   "outputs": [
    {
     "ename": "NameError",
     "evalue": "name 'interviews_hrefs' is not defined",
     "output_type": "error",
     "traceback": [
      "\u001b[1;31m---------------------------------------------------------------------------\u001b[0m",
      "\u001b[1;31mNameError\u001b[0m                                 Traceback (most recent call last)",
      "Cell \u001b[1;32mIn[19], line 22\u001b[0m\n\u001b[0;32m      5\u001b[0m \u001b[38;5;66;03m# driver = webdriver.PhantomJS(executable_path='phantomjs.exe')\u001b[39;00m\n\u001b[0;32m      6\u001b[0m \u001b[38;5;66;03m# path = \"C:\\Users\\89165\\DidenkoResearch\\personality-prediction-from-text\\chromedriver_win32\\chromedriver.exe\"\u001b[39;00m\n\u001b[0;32m      7\u001b[0m \u001b[38;5;66;03m# driver = webdriver.Chrome(r'C:\\Users\\89165\\DidenkoResearch\\personality-prediction-from-text\\chromedriver_win32\\chromedriver.exe')\u001b[39;00m\n\u001b[1;32m   (...)\u001b[0m\n\u001b[0;32m     19\u001b[0m \u001b[38;5;66;03m# html = BeautifulSoup(driver.page_source)\u001b[39;00m\n\u001b[0;32m     20\u001b[0m \u001b[38;5;66;03m# interviews_hrefs = find_articles(html, size)\u001b[39;00m\n\u001b[0;32m     21\u001b[0m interwies_href \u001b[38;5;241m=\u001b[39m [\u001b[38;5;124m'\u001b[39m\u001b[38;5;124mdenbertech\u001b[39m\u001b[38;5;124m'\u001b[39m, \u001b[38;5;124m'\u001b[39m\u001b[38;5;124mstarsync\u001b[39m\u001b[38;5;124m'\u001b[39m, \u001b[38;5;124m'\u001b[39m\u001b[38;5;124mpubloft\u001b[39m\u001b[38;5;124m'\u001b[39m, \u001b[38;5;124m'\u001b[39m\u001b[38;5;124mbenja\u001b[39m\u001b[38;5;124m'\u001b[39m, \u001b[38;5;124m'\u001b[39m\u001b[38;5;124mobserva\u001b[39m\u001b[38;5;124m'\u001b[39m, \u001b[38;5;124m'\u001b[39m\u001b[38;5;124mweplate\u001b[39m\u001b[38;5;124m'\u001b[39m, \u001b[38;5;124m'\u001b[39m\u001b[38;5;124mdesign-in-dc\u001b[39m\u001b[38;5;124m'\u001b[39m, \u001b[38;5;124m'\u001b[39m\u001b[38;5;124mfinmasters\u001b[39m\u001b[38;5;124m'\u001b[39m, \u001b[38;5;124m'\u001b[39m\u001b[38;5;124mtweet-hunter\u001b[39m\u001b[38;5;124m'\u001b[39m, \u001b[38;5;124m'\u001b[39m\u001b[38;5;124mwoovly\u001b[39m\u001b[38;5;124m'\u001b[39m, \u001b[38;5;124m'\u001b[39m\u001b[38;5;124mbasetemplates\u001b[39m\u001b[38;5;124m'\u001b[39m, \u001b[38;5;124m'\u001b[39m\u001b[38;5;124msisu-academy\u001b[39m\u001b[38;5;124m'\u001b[39m, \u001b[38;5;124m'\u001b[39m\u001b[38;5;124mcorebook\u001b[39m\u001b[38;5;124m'\u001b[39m, \u001b[38;5;124m'\u001b[39m\u001b[38;5;124mheadlime\u001b[39m\u001b[38;5;124m'\u001b[39m, \u001b[38;5;124m'\u001b[39m\u001b[38;5;124mplutoview\u001b[39m\u001b[38;5;124m'\u001b[39m, \u001b[38;5;124m'\u001b[39m\u001b[38;5;124mfibery\u001b[39m\u001b[38;5;124m'\u001b[39m, \u001b[38;5;124m'\u001b[39m\u001b[38;5;124mwotnot\u001b[39m\u001b[38;5;124m'\u001b[39m, \u001b[38;5;124m'\u001b[39m\u001b[38;5;124mvimcal\u001b[39m\u001b[38;5;124m'\u001b[39m, \u001b[38;5;124m'\u001b[39m\u001b[38;5;124mbildr\u001b[39m\u001b[38;5;124m'\u001b[39m, \u001b[38;5;124m'\u001b[39m\u001b[38;5;124mreform\u001b[39m\u001b[38;5;124m'\u001b[39m, \u001b[38;5;124m'\u001b[39m\u001b[38;5;124mphotobooth-supply\u001b[39m\u001b[38;5;124m'\u001b[39m, \u001b[38;5;124m'\u001b[39m\u001b[38;5;124mzenmaid\u001b[39m\u001b[38;5;124m'\u001b[39m, \u001b[38;5;124m'\u001b[39m\u001b[38;5;124mupvoty\u001b[39m\u001b[38;5;124m'\u001b[39m, \u001b[38;5;124m'\u001b[39m\u001b[38;5;124mgorails\u001b[39m\u001b[38;5;124m'\u001b[39m, \u001b[38;5;124m'\u001b[39m\u001b[38;5;124mtactiq\u001b[39m\u001b[38;5;124m'\u001b[39m, \u001b[38;5;124m'\u001b[39m\u001b[38;5;124mrize\u001b[39m\u001b[38;5;124m'\u001b[39m, \u001b[38;5;124m'\u001b[39m\u001b[38;5;124mtally\u001b[39m\u001b[38;5;124m'\u001b[39m, \u001b[38;5;124m'\u001b[39m\u001b[38;5;124msyria-airlift-project\u001b[39m\u001b[38;5;124m'\u001b[39m, \u001b[38;5;124m'\u001b[39m\u001b[38;5;124mmicroconf\u001b[39m\u001b[38;5;124m'\u001b[39m, \u001b[38;5;124m'\u001b[39m\u001b[38;5;124mzenoutreach\u001b[39m\u001b[38;5;124m'\u001b[39m, \u001b[38;5;124m'\u001b[39m\u001b[38;5;124mmubert\u001b[39m\u001b[38;5;124m'\u001b[39m, \u001b[38;5;124m'\u001b[39m\u001b[38;5;124mmarketmuse\u001b[39m\u001b[38;5;124m'\u001b[39m, \u001b[38;5;124m'\u001b[39m\u001b[38;5;124mheadway\u001b[39m\u001b[38;5;124m'\u001b[39m, \u001b[38;5;124m'\u001b[39m\u001b[38;5;124minked-sports\u001b[39m\u001b[38;5;124m'\u001b[39m, \u001b[38;5;124m'\u001b[39m\u001b[38;5;124mcrabi\u001b[39m\u001b[38;5;124m'\u001b[39m, \u001b[38;5;124m'\u001b[39m\u001b[38;5;124msnapshooter\u001b[39m\u001b[38;5;124m'\u001b[39m, \u001b[38;5;124m'\u001b[39m\u001b[38;5;124mphotopea\u001b[39m\u001b[38;5;124m'\u001b[39m, \u001b[38;5;124m'\u001b[39m\u001b[38;5;124msiempo\u001b[39m\u001b[38;5;124m'\u001b[39m, \u001b[38;5;124m'\u001b[39m\u001b[38;5;124makko\u001b[39m\u001b[38;5;124m'\u001b[39m, \u001b[38;5;124m'\u001b[39m\u001b[38;5;124mfeedcheck\u001b[39m\u001b[38;5;124m'\u001b[39m, \u001b[38;5;124m'\u001b[39m\u001b[38;5;124mmanyrequests\u001b[39m\u001b[38;5;124m'\u001b[39m, \u001b[38;5;124m'\u001b[39m\u001b[38;5;124mxena-intelligence\u001b[39m\u001b[38;5;124m'\u001b[39m, \u001b[38;5;124m'\u001b[39m\u001b[38;5;124mcss-for-js-developers\u001b[39m\u001b[38;5;124m'\u001b[39m, \u001b[38;5;124m'\u001b[39m\u001b[38;5;124mzogics\u001b[39m\u001b[38;5;124m'\u001b[39m, \u001b[38;5;124m'\u001b[39m\u001b[38;5;124mlifewave\u001b[39m\u001b[38;5;124m'\u001b[39m, \u001b[38;5;124m'\u001b[39m\u001b[38;5;124maplano\u001b[39m\u001b[38;5;124m'\u001b[39m, \u001b[38;5;124m'\u001b[39m\u001b[38;5;124mombori\u001b[39m\u001b[38;5;124m'\u001b[39m, \u001b[38;5;124m'\u001b[39m\u001b[38;5;124mfinancer\u001b[39m\u001b[38;5;124m'\u001b[39m, \u001b[38;5;124m'\u001b[39m\u001b[38;5;124mhawkers\u001b[39m\u001b[38;5;124m'\u001b[39m, \u001b[38;5;124m'\u001b[39m\u001b[38;5;124mbizzbee\u001b[39m\u001b[38;5;124m'\u001b[39m, \u001b[38;5;124m'\u001b[39m\u001b[38;5;124mleilo\u001b[39m\u001b[38;5;124m'\u001b[39m, \u001b[38;5;124m'\u001b[39m\u001b[38;5;124membarque\u001b[39m\u001b[38;5;124m'\u001b[39m, \u001b[38;5;124m'\u001b[39m\u001b[38;5;124mfreshconnect\u001b[39m\u001b[38;5;124m'\u001b[39m, \u001b[38;5;124m'\u001b[39m\u001b[38;5;124mno-code-founders\u001b[39m\u001b[38;5;124m'\u001b[39m, \u001b[38;5;124m'\u001b[39m\u001b[38;5;124mendeavorun\u001b[39m\u001b[38;5;124m'\u001b[39m, \u001b[38;5;124m'\u001b[39m\u001b[38;5;124mfrontend-mentor\u001b[39m\u001b[38;5;124m'\u001b[39m, \u001b[38;5;124m'\u001b[39m\u001b[38;5;124mresumemaker\u001b[39m\u001b[38;5;124m'\u001b[39m, \u001b[38;5;124m'\u001b[39m\u001b[38;5;124mlocationrebel\u001b[39m\u001b[38;5;124m'\u001b[39m, \u001b[38;5;124m'\u001b[39m\u001b[38;5;124mflexiple-2021\u001b[39m\u001b[38;5;124m'\u001b[39m, \u001b[38;5;124m'\u001b[39m\u001b[38;5;124medlatimore\u001b[39m\u001b[38;5;124m'\u001b[39m, \u001b[38;5;124m'\u001b[39m\u001b[38;5;124mmycity\u001b[39m\u001b[38;5;124m'\u001b[39m, \u001b[38;5;124m'\u001b[39m\u001b[38;5;124mblogging-for-devs\u001b[39m\u001b[38;5;124m'\u001b[39m, \u001b[38;5;124m'\u001b[39m\u001b[38;5;124mpatron-ai\u001b[39m\u001b[38;5;124m'\u001b[39m, \u001b[38;5;124m'\u001b[39m\u001b[38;5;124mthe-agent-nest\u001b[39m\u001b[38;5;124m'\u001b[39m, \u001b[38;5;124m'\u001b[39m\u001b[38;5;124mraw-gains\u001b[39m\u001b[38;5;124m'\u001b[39m, \u001b[38;5;124m'\u001b[39m\u001b[38;5;124mflexy\u001b[39m\u001b[38;5;124m'\u001b[39m, \u001b[38;5;124m'\u001b[39m\u001b[38;5;124madproval\u001b[39m\u001b[38;5;124m'\u001b[39m, \u001b[38;5;124m'\u001b[39m\u001b[38;5;124myoung-entrepreneurs-program\u001b[39m\u001b[38;5;124m'\u001b[39m, \u001b[38;5;124m'\u001b[39m\u001b[38;5;124mstrengthrunning\u001b[39m\u001b[38;5;124m'\u001b[39m, \u001b[38;5;124m'\u001b[39m\u001b[38;5;124mviewst\u001b[39m\u001b[38;5;124m'\u001b[39m, \u001b[38;5;124m'\u001b[39m\u001b[38;5;124mgrowsurf\u001b[39m\u001b[38;5;124m'\u001b[39m, \u001b[38;5;124m'\u001b[39m\u001b[38;5;124mlocaltown\u001b[39m\u001b[38;5;124m'\u001b[39m, \u001b[38;5;124m'\u001b[39m\u001b[38;5;124mbounce\u001b[39m\u001b[38;5;124m'\u001b[39m, \u001b[38;5;124m'\u001b[39m\u001b[38;5;124mawesomic\u001b[39m\u001b[38;5;124m'\u001b[39m, \u001b[38;5;124m'\u001b[39m\u001b[38;5;124mswagup\u001b[39m\u001b[38;5;124m'\u001b[39m, \u001b[38;5;124m'\u001b[39m\u001b[38;5;124mmentorcruise\u001b[39m\u001b[38;5;124m'\u001b[39m, \u001b[38;5;124m'\u001b[39m\u001b[38;5;124mimpossible\u001b[39m\u001b[38;5;124m'\u001b[39m, \u001b[38;5;124m'\u001b[39m\u001b[38;5;124mhello-tyro\u001b[39m\u001b[38;5;124m'\u001b[39m, \u001b[38;5;124m'\u001b[39m\u001b[38;5;124mrefolo\u001b[39m\u001b[38;5;124m'\u001b[39m, \u001b[38;5;124m'\u001b[39m\u001b[38;5;124mcopyai\u001b[39m\u001b[38;5;124m'\u001b[39m, \u001b[38;5;124m'\u001b[39m\u001b[38;5;124mkimp\u001b[39m\u001b[38;5;124m'\u001b[39m, \u001b[38;5;124m'\u001b[39m\u001b[38;5;124mpactero\u001b[39m\u001b[38;5;124m'\u001b[39m, \u001b[38;5;124m'\u001b[39m\u001b[38;5;124mrefrens\u001b[39m\u001b[38;5;124m'\u001b[39m, \u001b[38;5;124m'\u001b[39m\u001b[38;5;124mqor360\u001b[39m\u001b[38;5;124m'\u001b[39m, \u001b[38;5;124m'\u001b[39m\u001b[38;5;124msinoficina\u001b[39m\u001b[38;5;124m'\u001b[39m, \u001b[38;5;124m'\u001b[39m\u001b[38;5;124mopenmargin\u001b[39m\u001b[38;5;124m'\u001b[39m, \u001b[38;5;124m'\u001b[39m\u001b[38;5;124mcam-ly\u001b[39m\u001b[38;5;124m'\u001b[39m, \u001b[38;5;124m'\u001b[39m\u001b[38;5;124mvacation-bird\u001b[39m\u001b[38;5;124m'\u001b[39m, \u001b[38;5;124m'\u001b[39m\u001b[38;5;124mscraper-api\u001b[39m\u001b[38;5;124m'\u001b[39m, \u001b[38;5;124m'\u001b[39m\u001b[38;5;124mcold-email-studio\u001b[39m\u001b[38;5;124m'\u001b[39m, \u001b[38;5;124m'\u001b[39m\u001b[38;5;124mringdaddy\u001b[39m\u001b[38;5;124m'\u001b[39m, \u001b[38;5;124m'\u001b[39m\u001b[38;5;124mstation\u001b[39m\u001b[38;5;124m'\u001b[39m, \u001b[38;5;124m'\u001b[39m\u001b[38;5;124mjuice-startup\u001b[39m\u001b[38;5;124m'\u001b[39m, \u001b[38;5;124m'\u001b[39m\u001b[38;5;124mtoki\u001b[39m\u001b[38;5;124m'\u001b[39m, \u001b[38;5;124m'\u001b[39m\u001b[38;5;124mvidico\u001b[39m\u001b[38;5;124m'\u001b[39m, \u001b[38;5;124m'\u001b[39m\u001b[38;5;124mreality-hunt\u001b[39m\u001b[38;5;124m'\u001b[39m, \u001b[38;5;124m'\u001b[39m\u001b[38;5;124mcreator-growth-lab\u001b[39m\u001b[38;5;124m'\u001b[39m, \u001b[38;5;124m'\u001b[39m\u001b[38;5;124msalonist\u001b[39m\u001b[38;5;124m'\u001b[39m, \u001b[38;5;124m'\u001b[39m\u001b[38;5;124mlernin-games\u001b[39m\u001b[38;5;124m'\u001b[39m, \u001b[38;5;124m'\u001b[39m\u001b[38;5;124mcareer-sidekick\u001b[39m\u001b[38;5;124m'\u001b[39m, \u001b[38;5;124m'\u001b[39m\u001b[38;5;124mteacher-finder\u001b[39m\u001b[38;5;124m'\u001b[39m, \u001b[38;5;124m'\u001b[39m\u001b[38;5;124mthe-careside\u001b[39m\u001b[38;5;124m'\u001b[39m, \u001b[38;5;124m'\u001b[39m\u001b[38;5;124mdeluxemaid\u001b[39m\u001b[38;5;124m'\u001b[39m, \u001b[38;5;124m'\u001b[39m\u001b[38;5;124mformatically\u001b[39m\u001b[38;5;124m'\u001b[39m, \u001b[38;5;124m'\u001b[39m\u001b[38;5;124mnogood\u001b[39m\u001b[38;5;124m'\u001b[39m, \u001b[38;5;124m'\u001b[39m\u001b[38;5;124mnewco\u001b[39m\u001b[38;5;124m'\u001b[39m, \u001b[38;5;124m'\u001b[39m\u001b[38;5;124msimplelogin\u001b[39m\u001b[38;5;124m'\u001b[39m, \u001b[38;5;124m'\u001b[39m\u001b[38;5;124mmelon\u001b[39m\u001b[38;5;124m'\u001b[39m, \u001b[38;5;124m'\u001b[39m\u001b[38;5;124mmy-auto-shop\u001b[39m\u001b[38;5;124m'\u001b[39m, \u001b[38;5;124m'\u001b[39m\u001b[38;5;124mcircle\u001b[39m\u001b[38;5;124m'\u001b[39m, \u001b[38;5;124m'\u001b[39m\u001b[38;5;124mhenry\u001b[39m\u001b[38;5;124m'\u001b[39m, \u001b[38;5;124m'\u001b[39m\u001b[38;5;124mstacking-the-bricks\u001b[39m\u001b[38;5;124m'\u001b[39m, \u001b[38;5;124m'\u001b[39m\u001b[38;5;124mvisualsitemaps\u001b[39m\u001b[38;5;124m'\u001b[39m, \u001b[38;5;124m'\u001b[39m\u001b[38;5;124meola\u001b[39m\u001b[38;5;124m'\u001b[39m, \u001b[38;5;124m'\u001b[39m\u001b[38;5;124msofetch\u001b[39m\u001b[38;5;124m'\u001b[39m, \u001b[38;5;124m'\u001b[39m\u001b[38;5;124mlinkody\u001b[39m\u001b[38;5;124m'\u001b[39m, \u001b[38;5;124m'\u001b[39m\u001b[38;5;124muptrend\u001b[39m\u001b[38;5;124m'\u001b[39m, \u001b[38;5;124m'\u001b[39m\u001b[38;5;124minovvorx\u001b[39m\u001b[38;5;124m'\u001b[39m, \u001b[38;5;124m'\u001b[39m\u001b[38;5;124municorn-platform\u001b[39m\u001b[38;5;124m'\u001b[39m, \u001b[38;5;124m'\u001b[39m\u001b[38;5;124mvulpine\u001b[39m\u001b[38;5;124m'\u001b[39m, \u001b[38;5;124m'\u001b[39m\u001b[38;5;124msoftwareideas\u001b[39m\u001b[38;5;124m'\u001b[39m, \u001b[38;5;124m'\u001b[39m\u001b[38;5;124mplausible\u001b[39m\u001b[38;5;124m'\u001b[39m, \u001b[38;5;124m'\u001b[39m\u001b[38;5;124mkamua\u001b[39m\u001b[38;5;124m'\u001b[39m, \u001b[38;5;124m'\u001b[39m\u001b[38;5;124mzapstream\u001b[39m\u001b[38;5;124m'\u001b[39m, \u001b[38;5;124m'\u001b[39m\u001b[38;5;124mrepairdesk\u001b[39m\u001b[38;5;124m'\u001b[39m, \u001b[38;5;124m'\u001b[39m\u001b[38;5;124mstronger-u\u001b[39m\u001b[38;5;124m'\u001b[39m, \u001b[38;5;124m'\u001b[39m\u001b[38;5;124mgraphite-docs\u001b[39m\u001b[38;5;124m'\u001b[39m, \u001b[38;5;124m'\u001b[39m\u001b[38;5;124mhabitual\u001b[39m\u001b[38;5;124m'\u001b[39m, \u001b[38;5;124m'\u001b[39m\u001b[38;5;124mpathways\u001b[39m\u001b[38;5;124m'\u001b[39m, \u001b[38;5;124m'\u001b[39m\u001b[38;5;124mbuttercloth\u001b[39m\u001b[38;5;124m'\u001b[39m, \u001b[38;5;124m'\u001b[39m\u001b[38;5;124mthepresence\u001b[39m\u001b[38;5;124m'\u001b[39m, \u001b[38;5;124m'\u001b[39m\u001b[38;5;124madleaf-technologies\u001b[39m\u001b[38;5;124m'\u001b[39m, \u001b[38;5;124m'\u001b[39m\u001b[38;5;124mcolorado-mobile-drug-testing\u001b[39m\u001b[38;5;124m'\u001b[39m, \u001b[38;5;124m'\u001b[39m\u001b[38;5;124mwatu\u001b[39m\u001b[38;5;124m'\u001b[39m, \u001b[38;5;124m'\u001b[39m\u001b[38;5;124mhawthorne-strategies\u001b[39m\u001b[38;5;124m'\u001b[39m, \u001b[38;5;124m'\u001b[39m\u001b[38;5;124mcuriouscheck\u001b[39m\u001b[38;5;124m'\u001b[39m, \u001b[38;5;124m'\u001b[39m\u001b[38;5;124mrent-nest\u001b[39m\u001b[38;5;124m'\u001b[39m, \u001b[38;5;124m'\u001b[39m\u001b[38;5;124mscout\u001b[39m\u001b[38;5;124m'\u001b[39m, \u001b[38;5;124m'\u001b[39m\u001b[38;5;124mrent-round\u001b[39m\u001b[38;5;124m'\u001b[39m, \u001b[38;5;124m'\u001b[39m\u001b[38;5;124mswoop\u001b[39m\u001b[38;5;124m'\u001b[39m, \u001b[38;5;124m'\u001b[39m\u001b[38;5;124mkopely\u001b[39m\u001b[38;5;124m'\u001b[39m, \u001b[38;5;124m'\u001b[39m\u001b[38;5;124mhelpwise\u001b[39m\u001b[38;5;124m'\u001b[39m, \u001b[38;5;124m'\u001b[39m\u001b[38;5;124mdotahaven\u001b[39m\u001b[38;5;124m'\u001b[39m, \u001b[38;5;124m'\u001b[39m\u001b[38;5;124mlunch-money\u001b[39m\u001b[38;5;124m'\u001b[39m, \u001b[38;5;124m'\u001b[39m\u001b[38;5;124mbunnyshell\u001b[39m\u001b[38;5;124m'\u001b[39m, \u001b[38;5;124m'\u001b[39m\u001b[38;5;124mtuff\u001b[39m\u001b[38;5;124m'\u001b[39m, \u001b[38;5;124m'\u001b[39m\u001b[38;5;124mcuddli\u001b[39m\u001b[38;5;124m'\u001b[39m, \u001b[38;5;124m'\u001b[39m\u001b[38;5;124mmailbrew\u001b[39m\u001b[38;5;124m'\u001b[39m, \u001b[38;5;124m'\u001b[39m\u001b[38;5;124mfriday\u001b[39m\u001b[38;5;124m'\u001b[39m, \u001b[38;5;124m'\u001b[39m\u001b[38;5;124mprocesskit\u001b[39m\u001b[38;5;124m'\u001b[39m, \u001b[38;5;124m'\u001b[39m\u001b[38;5;124m101-studios\u001b[39m\u001b[38;5;124m'\u001b[39m, \u001b[38;5;124m'\u001b[39m\u001b[38;5;124mne-lounge\u001b[39m\u001b[38;5;124m'\u001b[39m, \u001b[38;5;124m'\u001b[39m\u001b[38;5;124mwavve\u001b[39m\u001b[38;5;124m'\u001b[39m, \u001b[38;5;124m'\u001b[39m\u001b[38;5;124mlemlist\u001b[39m\u001b[38;5;124m'\u001b[39m, \u001b[38;5;124m'\u001b[39m\u001b[38;5;124mteamometer\u001b[39m\u001b[38;5;124m'\u001b[39m, \u001b[38;5;124m'\u001b[39m\u001b[38;5;124mkaya-gs\u001b[39m\u001b[38;5;124m'\u001b[39m, \u001b[38;5;124m'\u001b[39m\u001b[38;5;124mdream-client-academy\u001b[39m\u001b[38;5;124m'\u001b[39m, \u001b[38;5;124m'\u001b[39m\u001b[38;5;124mhabitify\u001b[39m\u001b[38;5;124m'\u001b[39m, \u001b[38;5;124m'\u001b[39m\u001b[38;5;124mmotionthink\u001b[39m\u001b[38;5;124m'\u001b[39m, \u001b[38;5;124m'\u001b[39m\u001b[38;5;124mkolos\u001b[39m\u001b[38;5;124m'\u001b[39m, \u001b[38;5;124m'\u001b[39m\u001b[38;5;124mbranch\u001b[39m\u001b[38;5;124m'\u001b[39m, \u001b[38;5;124m'\u001b[39m\u001b[38;5;124mscalefusion\u001b[39m\u001b[38;5;124m'\u001b[39m, \u001b[38;5;124m'\u001b[39m\u001b[38;5;124mprice2spy\u001b[39m\u001b[38;5;124m'\u001b[39m, \u001b[38;5;124m'\u001b[39m\u001b[38;5;124mcommunity-coders\u001b[39m\u001b[38;5;124m'\u001b[39m, \u001b[38;5;124m'\u001b[39m\u001b[38;5;124myottio\u001b[39m\u001b[38;5;124m'\u001b[39m, \u001b[38;5;124m'\u001b[39m\u001b[38;5;124mpatriot-chimney\u001b[39m\u001b[38;5;124m'\u001b[39m, \u001b[38;5;124m'\u001b[39m\u001b[38;5;124mansaro\u001b[39m\u001b[38;5;124m'\u001b[39m, \u001b[38;5;124m'\u001b[39m\u001b[38;5;124mscrapingbee\u001b[39m\u001b[38;5;124m'\u001b[39m, \u001b[38;5;124m'\u001b[39m\u001b[38;5;124mswipes\u001b[39m\u001b[38;5;124m'\u001b[39m, \u001b[38;5;124m'\u001b[39m\u001b[38;5;124mcrossnet\u001b[39m\u001b[38;5;124m'\u001b[39m, \u001b[38;5;124m'\u001b[39m\u001b[38;5;124mplaydate\u001b[39m\u001b[38;5;124m'\u001b[39m, \u001b[38;5;124m'\u001b[39m\u001b[38;5;124mokami-pack\u001b[39m\u001b[38;5;124m'\u001b[39m, \u001b[38;5;124m'\u001b[39m\u001b[38;5;124mgawkbox\u001b[39m\u001b[38;5;124m'\u001b[39m, \u001b[38;5;124m'\u001b[39m\u001b[38;5;124mwaydev\u001b[39m\u001b[38;5;124m'\u001b[39m, \u001b[38;5;124m'\u001b[39m\u001b[38;5;124mvo2-sportswear\u001b[39m\u001b[38;5;124m'\u001b[39m, \u001b[38;5;124m'\u001b[39m\u001b[38;5;124msport-draftr\u001b[39m\u001b[38;5;124m'\u001b[39m, \u001b[38;5;124m'\u001b[39m\u001b[38;5;124mmealsurfers\u001b[39m\u001b[38;5;124m'\u001b[39m, \u001b[38;5;124m'\u001b[39m\u001b[38;5;124mtali\u001b[39m\u001b[38;5;124m'\u001b[39m, \u001b[38;5;124m'\u001b[39m\u001b[38;5;124mgulp\u001b[39m\u001b[38;5;124m'\u001b[39m, \u001b[38;5;124m'\u001b[39m\u001b[38;5;124mimaginovation\u001b[39m\u001b[38;5;124m'\u001b[39m, \u001b[38;5;124m'\u001b[39m\u001b[38;5;124mreadership\u001b[39m\u001b[38;5;124m'\u001b[39m, \u001b[38;5;124m'\u001b[39m\u001b[38;5;124mflexiple\u001b[39m\u001b[38;5;124m'\u001b[39m, \u001b[38;5;124m'\u001b[39m\u001b[38;5;124mmangools\u001b[39m\u001b[38;5;124m'\u001b[39m, \u001b[38;5;124m'\u001b[39m\u001b[38;5;124mqwaiting\u001b[39m\u001b[38;5;124m'\u001b[39m, \u001b[38;5;124m'\u001b[39m\u001b[38;5;124mstone\u001b[39m\u001b[38;5;124m'\u001b[39m, \u001b[38;5;124m'\u001b[39m\u001b[38;5;124mmongoose-cricket\u001b[39m\u001b[38;5;124m'\u001b[39m, \u001b[38;5;124m'\u001b[39m\u001b[38;5;124mstanduply\u001b[39m\u001b[38;5;124m'\u001b[39m, \u001b[38;5;124m'\u001b[39m\u001b[38;5;124mclaimcompass\u001b[39m\u001b[38;5;124m'\u001b[39m, \u001b[38;5;124m'\u001b[39m\u001b[38;5;124mjustreachout\u001b[39m\u001b[38;5;124m'\u001b[39m, \u001b[38;5;124m'\u001b[39m\u001b[38;5;124m140-canvas\u001b[39m\u001b[38;5;124m'\u001b[39m, \u001b[38;5;124m'\u001b[39m\u001b[38;5;124mfestivilia\u001b[39m\u001b[38;5;124m'\u001b[39m, \u001b[38;5;124m'\u001b[39m\u001b[38;5;124moneup\u001b[39m\u001b[38;5;124m'\u001b[39m, \u001b[38;5;124m'\u001b[39m\u001b[38;5;124msingulution\u001b[39m\u001b[38;5;124m'\u001b[39m, \u001b[38;5;124m'\u001b[39m\u001b[38;5;124mencharge\u001b[39m\u001b[38;5;124m'\u001b[39m, \u001b[38;5;124m'\u001b[39m\u001b[38;5;124mnarcine\u001b[39m\u001b[38;5;124m'\u001b[39m, \u001b[38;5;124m'\u001b[39m\u001b[38;5;124mnox\u001b[39m\u001b[38;5;124m'\u001b[39m, \u001b[38;5;124m'\u001b[39m\u001b[38;5;124mgrowthmentor\u001b[39m\u001b[38;5;124m'\u001b[39m, \u001b[38;5;124m'\u001b[39m\u001b[38;5;124mwedmap\u001b[39m\u001b[38;5;124m'\u001b[39m, \u001b[38;5;124m'\u001b[39m\u001b[38;5;124mcampertunity\u001b[39m\u001b[38;5;124m'\u001b[39m, \u001b[38;5;124m'\u001b[39m\u001b[38;5;124maura\u001b[39m\u001b[38;5;124m'\u001b[39m, \u001b[38;5;124m'\u001b[39m\u001b[38;5;124mprofitabilly\u001b[39m\u001b[38;5;124m'\u001b[39m, \u001b[38;5;124m'\u001b[39m\u001b[38;5;124mrankd-seo\u001b[39m\u001b[38;5;124m'\u001b[39m, \u001b[38;5;124m'\u001b[39m\u001b[38;5;124memit\u001b[39m\u001b[38;5;124m'\u001b[39m, \u001b[38;5;124m'\u001b[39m\u001b[38;5;124mtailor\u001b[39m\u001b[38;5;124m'\u001b[39m, \u001b[38;5;124m'\u001b[39m\u001b[38;5;124mhubrif\u001b[39m\u001b[38;5;124m'\u001b[39m, \u001b[38;5;124m'\u001b[39m\u001b[38;5;124mrepitchbook\u001b[39m\u001b[38;5;124m'\u001b[39m, \u001b[38;5;124m'\u001b[39m\u001b[38;5;124mnerdpilots\u001b[39m\u001b[38;5;124m'\u001b[39m, \u001b[38;5;124m'\u001b[39m\u001b[38;5;124mgrowth-cave\u001b[39m\u001b[38;5;124m'\u001b[39m, \u001b[38;5;124m'\u001b[39m\u001b[38;5;124mgenm\u001b[39m\u001b[38;5;124m'\u001b[39m, \u001b[38;5;124m'\u001b[39m\u001b[38;5;124mhyperstarter\u001b[39m\u001b[38;5;124m'\u001b[39m, \u001b[38;5;124m'\u001b[39m\u001b[38;5;124mpagestead\u001b[39m\u001b[38;5;124m'\u001b[39m, \u001b[38;5;124m'\u001b[39m\u001b[38;5;124m10er\u001b[39m\u001b[38;5;124m'\u001b[39m, \u001b[38;5;124m'\u001b[39m\u001b[38;5;124mcanary\u001b[39m\u001b[38;5;124m'\u001b[39m, \u001b[38;5;124m'\u001b[39m\u001b[38;5;124mcombat-flip-flops\u001b[39m\u001b[38;5;124m'\u001b[39m, \u001b[38;5;124m'\u001b[39m\u001b[38;5;124mhubstaff\u001b[39m\u001b[38;5;124m'\u001b[39m, \u001b[38;5;124m'\u001b[39m\u001b[38;5;124mpull-reminders\u001b[39m\u001b[38;5;124m'\u001b[39m, \u001b[38;5;124m'\u001b[39m\u001b[38;5;124mlets-reach-success\u001b[39m\u001b[38;5;124m'\u001b[39m, \u001b[38;5;124m'\u001b[39m\u001b[38;5;124mseomator\u001b[39m\u001b[38;5;124m'\u001b[39m, \u001b[38;5;124m'\u001b[39m\u001b[38;5;124mmetricspot\u001b[39m\u001b[38;5;124m'\u001b[39m, \u001b[38;5;124m'\u001b[39m\u001b[38;5;124mpear-cards\u001b[39m\u001b[38;5;124m'\u001b[39m, \u001b[38;5;124m'\u001b[39m\u001b[38;5;124mdick-at-your-door\u001b[39m\u001b[38;5;124m'\u001b[39m, \u001b[38;5;124m'\u001b[39m\u001b[38;5;124mone-hour-professor\u001b[39m\u001b[38;5;124m'\u001b[39m, \u001b[38;5;124m'\u001b[39m\u001b[38;5;124m40-aprons\u001b[39m\u001b[38;5;124m'\u001b[39m, \u001b[38;5;124m'\u001b[39m\u001b[38;5;124mreroute-lifestyle\u001b[39m\u001b[38;5;124m'\u001b[39m, \u001b[38;5;124m'\u001b[39m\u001b[38;5;124mleadsbridge\u001b[39m\u001b[38;5;124m'\u001b[39m, \u001b[38;5;124m'\u001b[39m\u001b[38;5;124mbeardbrand\u001b[39m\u001b[38;5;124m'\u001b[39m, \u001b[38;5;124m'\u001b[39m\u001b[38;5;124mposture-keeper\u001b[39m\u001b[38;5;124m'\u001b[39m, \u001b[38;5;124m'\u001b[39m\u001b[38;5;124mtrackin\u001b[39m\u001b[38;5;124m'\u001b[39m, \u001b[38;5;124m'\u001b[39m\u001b[38;5;124mjoker-greeting\u001b[39m\u001b[38;5;124m'\u001b[39m, \u001b[38;5;124m'\u001b[39m\u001b[38;5;124mbrowserless\u001b[39m\u001b[38;5;124m'\u001b[39m, \u001b[38;5;124m'\u001b[39m\u001b[38;5;124murban-masterclass\u001b[39m\u001b[38;5;124m'\u001b[39m, \u001b[38;5;124m'\u001b[39m\u001b[38;5;124miwantthatflight\u001b[39m\u001b[38;5;124m'\u001b[39m, \u001b[38;5;124m'\u001b[39m\u001b[38;5;124mpark-io\u001b[39m\u001b[38;5;124m'\u001b[39m, \u001b[38;5;124m'\u001b[39m\u001b[38;5;124mmatboard-and-more\u001b[39m\u001b[38;5;124m'\u001b[39m, \u001b[38;5;124m'\u001b[39m\u001b[38;5;124mscream-pretty\u001b[39m\u001b[38;5;124m'\u001b[39m, \u001b[38;5;124m'\u001b[39m\u001b[38;5;124mrayna-tours\u001b[39m\u001b[38;5;124m'\u001b[39m, \u001b[38;5;124m'\u001b[39m\u001b[38;5;124monak\u001b[39m\u001b[38;5;124m'\u001b[39m, \u001b[38;5;124m'\u001b[39m\u001b[38;5;124mliveagent\u001b[39m\u001b[38;5;124m'\u001b[39m, \u001b[38;5;124m'\u001b[39m\u001b[38;5;124mpuppet-pelts\u001b[39m\u001b[38;5;124m'\u001b[39m, \u001b[38;5;124m'\u001b[39m\u001b[38;5;124mgadget-flow\u001b[39m\u001b[38;5;124m'\u001b[39m, \u001b[38;5;124m'\u001b[39m\u001b[38;5;124mcontent-snare\u001b[39m\u001b[38;5;124m'\u001b[39m, \u001b[38;5;124m'\u001b[39m\u001b[38;5;124mbugfender\u001b[39m\u001b[38;5;124m'\u001b[39m, \u001b[38;5;124m'\u001b[39m\u001b[38;5;124mspuds\u001b[39m\u001b[38;5;124m'\u001b[39m, \u001b[38;5;124m'\u001b[39m\u001b[38;5;124mtandem-app\u001b[39m\u001b[38;5;124m'\u001b[39m, \u001b[38;5;124m'\u001b[39m\u001b[38;5;124mwantremotejob\u001b[39m\u001b[38;5;124m'\u001b[39m, \u001b[38;5;124m'\u001b[39m\u001b[38;5;124mlieferoo\u001b[39m\u001b[38;5;124m'\u001b[39m, \u001b[38;5;124m'\u001b[39m\u001b[38;5;124mtwitch-highlights\u001b[39m\u001b[38;5;124m'\u001b[39m, \u001b[38;5;124m'\u001b[39m\u001b[38;5;124mjobridge\u001b[39m\u001b[38;5;124m'\u001b[39m, \u001b[38;5;124m'\u001b[39m\u001b[38;5;124mhaptly\u001b[39m\u001b[38;5;124m'\u001b[39m, \u001b[38;5;124m'\u001b[39m\u001b[38;5;124mchowdy\u001b[39m\u001b[38;5;124m'\u001b[39m, \u001b[38;5;124m'\u001b[39m\u001b[38;5;124mzor-technology\u001b[39m\u001b[38;5;124m'\u001b[39m, \u001b[38;5;124m'\u001b[39m\u001b[38;5;124mthe-punjab-kitchen\u001b[39m\u001b[38;5;124m'\u001b[39m, \u001b[38;5;124m'\u001b[39m\u001b[38;5;124mtaleship\u001b[39m\u001b[38;5;124m'\u001b[39m, \u001b[38;5;124m'\u001b[39m\u001b[38;5;124meventloot\u001b[39m\u001b[38;5;124m'\u001b[39m, \u001b[38;5;124m'\u001b[39m\u001b[38;5;124mhashtag-pirate\u001b[39m\u001b[38;5;124m'\u001b[39m, \u001b[38;5;124m'\u001b[39m\u001b[38;5;124mphez\u001b[39m\u001b[38;5;124m'\u001b[39m, \u001b[38;5;124m'\u001b[39m\u001b[38;5;124mmuun\u001b[39m\u001b[38;5;124m'\u001b[39m, \u001b[38;5;124m'\u001b[39m\u001b[38;5;124mfantastic-house-buyers\u001b[39m\u001b[38;5;124m'\u001b[39m, \u001b[38;5;124m'\u001b[39m\u001b[38;5;124mwura\u001b[39m\u001b[38;5;124m'\u001b[39m, \u001b[38;5;124m'\u001b[39m\u001b[38;5;124mbediwin-information-services\u001b[39m\u001b[38;5;124m'\u001b[39m, \u001b[38;5;124m'\u001b[39m\u001b[38;5;124mink\u001b[39m\u001b[38;5;124m'\u001b[39m, \u001b[38;5;124m'\u001b[39m\u001b[38;5;124mexplorevr\u001b[39m\u001b[38;5;124m'\u001b[39m, \u001b[38;5;124m'\u001b[39m\u001b[38;5;124mautto-in\u001b[39m\u001b[38;5;124m'\u001b[39m, \u001b[38;5;124m'\u001b[39m\u001b[38;5;124mlockpick-entertainment\u001b[39m\u001b[38;5;124m'\u001b[39m, \u001b[38;5;124m'\u001b[39m\u001b[38;5;124mworldos\u001b[39m\u001b[38;5;124m'\u001b[39m, \u001b[38;5;124m'\u001b[39m\u001b[38;5;124mbirdy\u001b[39m\u001b[38;5;124m'\u001b[39m, \u001b[38;5;124m'\u001b[39m\u001b[38;5;124mmotobox\u001b[39m\u001b[38;5;124m'\u001b[39m, \u001b[38;5;124m'\u001b[39m\u001b[38;5;124mthe-nerd-cave\u001b[39m\u001b[38;5;124m'\u001b[39m, \u001b[38;5;124m'\u001b[39m\u001b[38;5;124mknownet\u001b[39m\u001b[38;5;124m'\u001b[39m, \u001b[38;5;124m'\u001b[39m\u001b[38;5;124mlegaats\u001b[39m\u001b[38;5;124m'\u001b[39m, \u001b[38;5;124m'\u001b[39m\u001b[38;5;124monepagetrip\u001b[39m\u001b[38;5;124m'\u001b[39m, \u001b[38;5;124m'\u001b[39m\u001b[38;5;124mbusymind\u001b[39m\u001b[38;5;124m'\u001b[39m, \u001b[38;5;124m'\u001b[39m\u001b[38;5;124mbotnim\u001b[39m\u001b[38;5;124m'\u001b[39m, \u001b[38;5;124m'\u001b[39m\u001b[38;5;124mropero\u001b[39m\u001b[38;5;124m'\u001b[39m, \u001b[38;5;124m'\u001b[39m\u001b[38;5;124mgameslog\u001b[39m\u001b[38;5;124m'\u001b[39m, \u001b[38;5;124m'\u001b[39m\u001b[38;5;124mabby\u001b[39m\u001b[38;5;124m'\u001b[39m, \u001b[38;5;124m'\u001b[39m\u001b[38;5;124mbeehiveid\u001b[39m\u001b[38;5;124m'\u001b[39m, \u001b[38;5;124m'\u001b[39m\u001b[38;5;124mdelite\u001b[39m\u001b[38;5;124m'\u001b[39m, \u001b[38;5;124m'\u001b[39m\u001b[38;5;124mphoenix\u001b[39m\u001b[38;5;124m'\u001b[39m, \u001b[38;5;124m'\u001b[39m\u001b[38;5;124maddressbin\u001b[39m\u001b[38;5;124m'\u001b[39m, \u001b[38;5;124m'\u001b[39m\u001b[38;5;124mvivalatina\u001b[39m\u001b[38;5;124m'\u001b[39m, \u001b[38;5;124m'\u001b[39m\u001b[38;5;124mmishra-motors\u001b[39m\u001b[38;5;124m'\u001b[39m, \u001b[38;5;124m'\u001b[39m\u001b[38;5;124mteam-voice\u001b[39m\u001b[38;5;124m'\u001b[39m, \u001b[38;5;124m'\u001b[39m\u001b[38;5;124mquickhaggle\u001b[39m\u001b[38;5;124m'\u001b[39m, \u001b[38;5;124m'\u001b[39m\u001b[38;5;124mboston-apartment-hub\u001b[39m\u001b[38;5;124m'\u001b[39m, \u001b[38;5;124m'\u001b[39m\u001b[38;5;124mtandem\u001b[39m\u001b[38;5;124m'\u001b[39m, \u001b[38;5;124m'\u001b[39m\u001b[38;5;124mtoygaroo\u001b[39m\u001b[38;5;124m'\u001b[39m, \u001b[38;5;124m'\u001b[39m\u001b[38;5;124mflux\u001b[39m\u001b[38;5;124m'\u001b[39m, \u001b[38;5;124m'\u001b[39m\u001b[38;5;124mhot-barber\u001b[39m\u001b[38;5;124m'\u001b[39m, \u001b[38;5;124m'\u001b[39m\u001b[38;5;124mbrisk\u001b[39m\u001b[38;5;124m'\u001b[39m, \u001b[38;5;124m'\u001b[39m\u001b[38;5;124meloquis\u001b[39m\u001b[38;5;124m'\u001b[39m, \u001b[38;5;124m'\u001b[39m\u001b[38;5;124mhitronasplet\u001b[39m\u001b[38;5;124m'\u001b[39m, \u001b[38;5;124m'\u001b[39m\u001b[38;5;124msharkius\u001b[39m\u001b[38;5;124m'\u001b[39m, \u001b[38;5;124m'\u001b[39m\u001b[38;5;124mgymlisted\u001b[39m\u001b[38;5;124m'\u001b[39m, \u001b[38;5;124m'\u001b[39m\u001b[38;5;124mwaterproof-digital-camera\u001b[39m\u001b[38;5;124m'\u001b[39m, \u001b[38;5;124m'\u001b[39m\u001b[38;5;124masktina\u001b[39m\u001b[38;5;124m'\u001b[39m, \u001b[38;5;124m'\u001b[39m\u001b[38;5;124mthe-blogging-manifesto\u001b[39m\u001b[38;5;124m'\u001b[39m, \u001b[38;5;124m'\u001b[39m\u001b[38;5;124mhowell-market\u001b[39m\u001b[38;5;124m'\u001b[39m]\n\u001b[1;32m---> 22\u001b[0m interviews_full_hrefs \u001b[38;5;241m=\u001b[39m [one_interview_href \u001b[38;5;241m+\u001b[39m interviews_hrefs[i] \u001b[38;5;28;01mfor\u001b[39;00m i \u001b[38;5;129;01min\u001b[39;00m \u001b[38;5;28mrange\u001b[39m(\u001b[38;5;241m0\u001b[39m, \u001b[38;5;28mlen\u001b[39m(\u001b[43minterviews_hrefs\u001b[49m))]\n\u001b[0;32m     23\u001b[0m text_list \u001b[38;5;241m=\u001b[39m []\n\u001b[0;32m     24\u001b[0m \u001b[38;5;28;01mfor\u001b[39;00m href \u001b[38;5;129;01min\u001b[39;00m interviews_full_hrefs:\n",
      "\u001b[1;31mNameError\u001b[0m: name 'interviews_hrefs' is not defined"
     ]
    }
   ],
   "source": [
    "main_url = 'https://www.failory.com'\n",
    "interviews_href = main_url + '/interviews'\n",
    "one_interview_href = main_url + '/interview/'\n",
    "size = 203\n",
    "interviews_hrefs = find_articles(interviews_href, size)\n",
    "interviews_full_hrefs = [one_interview_href + interviews_hrefs[i] for i in range(0, len(interviews_hrefs))]\n",
    "text_list = []\n",
    "for href in interviews_full_hrefs:\n",
    "    text_list.append([clear_text(href),href])"
   ]
  },
  {
   "cell_type": "code",
   "execution_count": 21,
   "metadata": {},
   "outputs": [
    {
     "name": "stdout",
     "output_type": "stream",
     "text": [
      "298\n",
      "predicted personality: [0, 1, 0, 1, 1] 0 https://www.failory.com/interview/denbertech\n",
      "predicted personality: [1, 1, 0, 0, 1] 0 https://www.failory.com/interview/starsync\n",
      "predicted personality: [1, 1, 0, 0, 1] 0 https://www.failory.com/interview/publoft\n",
      "predicted personality: [1, 1, 0, 1, 1] 0 https://www.failory.com/interview/benja\n",
      "predicted personality: [1, 1, 0, 0, 1] 0 https://www.failory.com/interview/observa\n",
      "predicted personality: [1, 1, 0, 0, 1] 0 https://www.failory.com/interview/weplate\n",
      "predicted personality: [1, 1, 0, 0, 1] 1 https://www.failory.com/interview/design-in-dc\n",
      "predicted personality: [1, 1, 0, 0, 1] 1 https://www.failory.com/interview/finmasters\n",
      "predicted personality: [1, 1, 0, 1, 1] 1 https://www.failory.com/interview/tweet-hunter\n",
      "predicted personality: [1, 1, 0, 0, 1] 1 https://www.failory.com/interview/woovly\n",
      "predicted personality: [1, 1, 0, 0, 1] 1 https://www.failory.com/interview/basetemplates\n",
      "predicted personality: [1, 1, 0, 0, 1] 0 https://www.failory.com/interview/sisu-academy\n",
      "predicted personality: [1, 1, 0, 0, 1] 1 https://www.failory.com/interview/corebook\n",
      "predicted personality: [1, 1, 0, 0, 1] 1 https://www.failory.com/interview/headlime\n",
      "predicted personality: [1, 1, 0, 0, 1] 1 https://www.failory.com/interview/plutoview\n",
      "predicted personality: [1, 1, 1, 1, 1] 1 https://www.failory.com/interview/fibery\n",
      "predicted personality: [1, 1, 0, 0, 1] 1 https://www.failory.com/interview/wotnot\n",
      "predicted personality: [1, 1, 0, 0, 1] 1 https://www.failory.com/interview/vimcal\n",
      "predicted personality: [0, 1, 0, 1, 1] 1 https://www.failory.com/interview/bildr\n",
      "predicted personality: [0, 1, 0, 0, 1] 1 https://www.failory.com/interview/reform\n",
      "predicted personality: [0, 1, 0, 0, 1] 1 https://www.failory.com/interview/photobooth-supply\n",
      "predicted personality: [1, 1, 0, 0, 1] 1 https://www.failory.com/interview/zenmaid\n",
      "predicted personality: [1, 1, 0, 0, 1] 1 https://www.failory.com/interview/upvoty\n",
      "predicted personality: [1, 1, 0, 1, 1] 1 https://www.failory.com/interview/gorails\n",
      "predicted personality: [0, 1, 0, 0, 1] 1 https://www.failory.com/interview/tactiq\n",
      "predicted personality: [1, 1, 0, 0, 1] 1 https://www.failory.com/interview/rize\n",
      "predicted personality: [1, 1, 0, 1, 1] 1 https://www.failory.com/interview/tally\n",
      "predicted personality: [0, 1, 0, 1, 1] 0 https://www.failory.com/interview/syria-airlift-project\n",
      "predicted personality: [1, 1, 0, 0, 1] 1 https://www.failory.com/interview/microconf\n",
      "predicted personality: [1, 1, 0, 1, 1] 1 https://www.failory.com/interview/zenoutreach\n",
      "predicted personality: [1, 1, 0, 0, 1] 1 https://www.failory.com/interview/mubert\n",
      "predicted personality: [1, 1, 0, 1, 1] 1 https://www.failory.com/interview/marketmuse\n",
      "predicted personality: [1, 1, 0, 1, 1] 1 https://www.failory.com/interview/headway\n",
      "predicted personality: [1, 1, 0, 0, 1] 1 https://www.failory.com/interview/inked-sports\n",
      "predicted personality: [1, 1, 0, 1, 1] 1 https://www.failory.com/interview/crabi\n",
      "predicted personality: [1, 1, 0, 1, 1] 1 https://www.failory.com/interview/snapshooter\n",
      "predicted personality: [1, 1, 0, 0, 1] 1 https://www.failory.com/interview/photopea\n",
      "predicted personality: [1, 1, 0, 1, 1] 0 https://www.failory.com/interview/siempo\n",
      "predicted personality: [0, 1, 0, 0, 1] 1 https://www.failory.com/interview/akko\n",
      "predicted personality: [1, 1, 0, 0, 1] 1 https://www.failory.com/interview/feedcheck\n",
      "predicted personality: [1, 1, 0, 0, 1] 1 https://www.failory.com/interview/manyrequests\n",
      "predicted personality: [1, 1, 0, 0, 1] 1 https://www.failory.com/interview/xena-intelligence\n",
      "predicted personality: [1, 1, 1, 1, 1] 1 https://www.failory.com/interview/css-for-js-developers\n",
      "predicted personality: [1, 1, 0, 1, 1] 1 https://www.failory.com/interview/zogics\n",
      "predicted personality: [0, 1, 0, 1, 1] 1 https://www.failory.com/interview/lifewave\n",
      "predicted personality: [1, 1, 0, 0, 1] 1 https://www.failory.com/interview/aplano\n",
      "predicted personality: [0, 1, 0, 0, 1] 1 https://www.failory.com/interview/ombori\n",
      "predicted personality: [1, 1, 0, 0, 1] 1 https://www.failory.com/interview/financer\n",
      "predicted personality: [1, 1, 0, 1, 1] 1 https://www.failory.com/interview/hawkers\n",
      "predicted personality: [1, 1, 0, 0, 1] 1 https://www.failory.com/interview/bizzbee\n",
      "predicted personality: [1, 1, 0, 0, 1] 1 https://www.failory.com/interview/leilo\n",
      "predicted personality: [1, 1, 0, 0, 1] 1 https://www.failory.com/interview/embarque\n",
      "predicted personality: [1, 1, 0, 0, 1] 0 https://www.failory.com/interview/freshconnect\n",
      "predicted personality: [1, 1, 0, 0, 1] 1 https://www.failory.com/interview/no-code-founders\n",
      "predicted personality: [1, 1, 0, 1, 1] 1 https://www.failory.com/interview/endeavorun\n",
      "predicted personality: [0, 1, 0, 1, 1] 1 https://www.failory.com/interview/frontend-mentor\n",
      "predicted personality: [1, 1, 0, 0, 1] 1 https://www.failory.com/interview/resumemaker\n",
      "predicted personality: [1, 1, 1, 0, 1] 1 https://www.failory.com/interview/locationrebel\n",
      "predicted personality: [1, 1, 0, 0, 1] 1 https://www.failory.com/interview/flexiple-2021\n",
      "predicted personality: [1, 1, 0, 1, 1] 1 https://www.failory.com/interview/edlatimore\n",
      "predicted personality: [1, 1, 0, 0, 1] 0 https://www.failory.com/interview/mycity\n",
      "predicted personality: [1, 1, 0, 1, 1] 1 https://www.failory.com/interview/blogging-for-devs\n",
      "predicted personality: [1, 1, 0, 1, 1] 0 https://www.failory.com/interview/patron-ai\n",
      "predicted personality: [1, 1, 0, 1, 1] 1 https://www.failory.com/interview/the-agent-nest\n",
      "predicted personality: [1, 1, 0, 0, 1] 0 https://www.failory.com/interview/raw-gains\n",
      "predicted personality: [1, 1, 0, 0, 1] 1 https://www.failory.com/interview/flexy\n",
      "predicted personality: [1, 1, 0, 1, 1] 0 https://www.failory.com/interview/adproval\n",
      "predicted personality: [1, 1, 0, 0, 1] 0 https://www.failory.com/interview/young-entrepreneurs-program\n",
      "predicted personality: [1, 1, 0, 0, 1] 1 https://www.failory.com/interview/strengthrunning\n",
      "predicted personality: [1, 1, 0, 0, 1] 1 https://www.failory.com/interview/viewst\n",
      "predicted personality: [0, 1, 1, 1, 1] 1 https://www.failory.com/interview/growsurf\n",
      "predicted personality: [1, 1, 1, 1, 1] 0 https://www.failory.com/interview/localtown\n",
      "predicted personality: [1, 1, 0, 0, 1] 1 https://www.failory.com/interview/bounce\n",
      "predicted personality: [1, 1, 0, 0, 1] 1 https://www.failory.com/interview/awesomic\n",
      "predicted personality: [1, 1, 1, 1, 1] 1 https://www.failory.com/interview/swagup\n",
      "predicted personality: [1, 1, 1, 1, 1] 1 https://www.failory.com/interview/mentorcruise\n",
      "predicted personality: [1, 1, 1, 1, 1] 1 https://www.failory.com/interview/impossible\n",
      "predicted personality: [1, 1, 0, 0, 1] 0 https://www.failory.com/interview/hello-tyro\n",
      "predicted personality: [1, 1, 0, 0, 1] 0 https://www.failory.com/interview/refolo\n",
      "predicted personality: [1, 1, 0, 1, 1] 1 https://www.failory.com/interview/copyai\n",
      "predicted personality: [1, 1, 1, 0, 1] 1 https://www.failory.com/interview/kimp\n",
      "predicted personality: [1, 1, 1, 1, 1] 0 https://www.failory.com/interview/pactero\n",
      "predicted personality: [1, 1, 0, 0, 1] 1 https://www.failory.com/interview/refrens\n",
      "predicted personality: [0, 1, 0, 0, 1] 1 https://www.failory.com/interview/qor360\n",
      "predicted personality: [1, 1, 0, 0, 1] 1 https://www.failory.com/interview/sinoficina\n",
      "predicted personality: [1, 1, 0, 0, 1] 0 https://www.failory.com/interview/openmargin\n",
      "predicted personality: [1, 1, 0, 0, 1] 0 https://www.failory.com/interview/cam-ly\n",
      "predicted personality: [1, 1, 0, 1, 1] 0 https://www.failory.com/interview/vacation-bird\n",
      "predicted personality: [1, 1, 0, 0, 1] 1 https://www.failory.com/interview/scraper-api\n",
      "predicted personality: [1, 1, 0, 1, 1] 1 https://www.failory.com/interview/cold-email-studio\n",
      "predicted personality: [1, 1, 1, 0, 1] 0 https://www.failory.com/interview/ringdaddy\n",
      "predicted personality: [1, 1, 0, 0, 1] 1 https://www.failory.com/interview/station\n",
      "predicted personality: [1, 1, 1, 0, 1] 0 https://www.failory.com/interview/juice-startup\n",
      "predicted personality: [1, 1, 0, 0, 1] 0 https://www.failory.com/interview/toki\n",
      "predicted personality: [1, 1, 1, 1, 1] 1 https://www.failory.com/interview/vidico\n",
      "predicted personality: [1, 0, 0, 0, 1] 0 https://www.failory.com/interview/reality-hunt\n",
      "predicted personality: [1, 1, 1, 1, 1] 0 https://www.failory.com/interview/creator-growth-lab\n",
      "predicted personality: [1, 1, 1, 0, 1] 1 https://www.failory.com/interview/salonist\n"
     ]
    },
    {
     "name": "stdout",
     "output_type": "stream",
     "text": [
      "predicted personality: [1, 1, 0, 0, 1] 0 https://www.failory.com/interview/lernin-games\n",
      "predicted personality: [1, 1, 0, 0, 1] 1 https://www.failory.com/interview/career-sidekick\n",
      "predicted personality: [1, 0, 0, 0, 1] 0 https://www.failory.com/interview/teacher-finder\n",
      "predicted personality: [1, 1, 0, 0, 1] 1 https://www.failory.com/interview/the-careside\n",
      "predicted personality: [1, 1, 0, 0, 1] 1 https://www.failory.com/interview/deluxemaid\n",
      "predicted personality: [1, 1, 0, 0, 1] 0 https://www.failory.com/interview/formatically\n",
      "predicted personality: [1, 1, 0, 0, 1] 1 https://www.failory.com/interview/nogood\n",
      "predicted personality: [1, 1, 0, 0, 1] 0 https://www.failory.com/interview/newco\n",
      "predicted personality: [1, 1, 1, 1, 1] 1 https://www.failory.com/interview/simplelogin\n",
      "predicted personality: [0, 1, 1, 1, 1] 0 https://www.failory.com/interview/melon\n",
      "predicted personality: [1, 1, 1, 0, 1] 1 https://www.failory.com/interview/my-auto-shop\n",
      "predicted personality: [1, 1, 0, 1, 1] 1 https://www.failory.com/interview/circle\n",
      "predicted personality: [0, 1, 0, 1, 1] 1 https://www.failory.com/interview/henry\n",
      "predicted personality: [1, 1, 0, 0, 1] 1 https://www.failory.com/interview/stacking-the-bricks\n",
      "predicted personality: [1, 1, 0, 0, 1] 1 https://www.failory.com/interview/visualsitemaps\n",
      "predicted personality: [1, 1, 0, 1, 1] 1 https://www.failory.com/interview/eola\n",
      "predicted personality: [1, 1, 1, 0, 1] 0 https://www.failory.com/interview/sofetch\n",
      "predicted personality: [1, 1, 0, 0, 1] 1 https://www.failory.com/interview/linkody\n",
      "predicted personality: [1, 1, 0, 0, 1] 0 https://www.failory.com/interview/uptrend\n",
      "predicted personality: [1, 1, 0, 1, 1] 0 https://www.failory.com/interview/inovvorx\n",
      "predicted personality: [1, 1, 0, 0, 1] 1 https://www.failory.com/interview/unicorn-platform\n",
      "predicted personality: [1, 1, 0, 0, 1] 0 https://www.failory.com/interview/vulpine\n",
      "predicted personality: [0, 1, 1, 1, 1] 1 https://www.failory.com/interview/softwareideas\n",
      "predicted personality: [1, 1, 0, 0, 1] 1 https://www.failory.com/interview/plausible\n",
      "predicted personality: [1, 1, 0, 0, 1] 1 https://www.failory.com/interview/kamua\n",
      "predicted personality: [1, 1, 0, 0, 1] 0 https://www.failory.com/interview/zapstream\n",
      "predicted personality: [1, 1, 0, 0, 1] 1 https://www.failory.com/interview/repairdesk\n",
      "predicted personality: [1, 1, 0, 0, 1] 1 https://www.failory.com/interview/stronger-u\n",
      "predicted personality: [1, 1, 0, 1, 1] 0 https://www.failory.com/interview/graphite-docs\n",
      "predicted personality: [1, 1, 0, 0, 1] 0 https://www.failory.com/interview/habitual\n",
      "predicted personality: [1, 1, 0, 0, 1] 1 https://www.failory.com/interview/pathways\n",
      "predicted personality: [1, 1, 0, 0, 1] 1 https://www.failory.com/interview/buttercloth\n",
      "predicted personality: [1, 1, 0, 0, 1] 0 https://www.failory.com/interview/thepresence\n",
      "predicted personality: [1, 1, 0, 0, 1] 0 https://www.failory.com/interview/adleaf-technologies\n",
      "predicted personality: [1, 1, 0, 1, 1] 1 https://www.failory.com/interview/colorado-mobile-drug-testing\n",
      "predicted personality: [1, 1, 0, 0, 1] 0 https://www.failory.com/interview/watu\n",
      "predicted personality: [1, 1, 0, 0, 1] 0 https://www.failory.com/interview/hawthorne-strategies\n",
      "predicted personality: [1, 1, 1, 0, 1] 1 https://www.failory.com/interview/curiouscheck\n",
      "predicted personality: [0, 1, 0, 1, 1] 0 https://www.failory.com/interview/rent-nest\n",
      "predicted personality: [1, 1, 1, 1, 1] 1 https://www.failory.com/interview/scout\n",
      "predicted personality: [1, 1, 0, 1, 1] 1 https://www.failory.com/interview/rent-round\n",
      "predicted personality: [1, 1, 0, 0, 1] 1 https://www.failory.com/interview/swoop\n",
      "predicted personality: [1, 1, 0, 1, 1] 0 https://www.failory.com/interview/kopely\n",
      "predicted personality: [1, 1, 0, 0, 1] 1 https://www.failory.com/interview/helpwise\n",
      "predicted personality: [1, 1, 0, 0, 1] 0 https://www.failory.com/interview/dotahaven\n",
      "predicted personality: [1, 1, 0, 0, 1] 1 https://www.failory.com/interview/lunch-money\n",
      "predicted personality: [1, 1, 0, 0, 1] 1 https://www.failory.com/interview/bunnyshell\n",
      "predicted personality: [1, 1, 0, 1, 1] 1 https://www.failory.com/interview/tuff\n",
      "predicted personality: [1, 1, 1, 0, 1] 0 https://www.failory.com/interview/cuddli\n",
      "predicted personality: [1, 1, 0, 0, 1] 1 https://www.failory.com/interview/mailbrew\n",
      "predicted personality: [0, 1, 0, 0, 1] 1 https://www.failory.com/interview/friday\n",
      "predicted personality: [0, 1, 0, 0, 1] 1 https://www.failory.com/interview/processkit\n",
      "predicted personality: [0, 1, 0, 1, 1] 0 https://www.failory.com/interview/101-studios\n",
      "predicted personality: [1, 1, 0, 1, 1] 0 https://www.failory.com/interview/ne-lounge\n",
      "predicted personality: [1, 1, 0, 0, 1] 1 https://www.failory.com/interview/wavve\n",
      "predicted personality: [1, 1, 0, 0, 1] 1 https://www.failory.com/interview/lemlist\n",
      "predicted personality: [1, 1, 0, 0, 1] 0 https://www.failory.com/interview/teamometer\n",
      "predicted personality: [1, 1, 0, 0, 1] 0 https://www.failory.com/interview/kaya-gs\n",
      "predicted personality: [1, 1, 0, 0, 1] 1 https://www.failory.com/interview/dream-client-academy\n",
      "predicted personality: [0, 1, 0, 0, 1] 1 https://www.failory.com/interview/habitify\n",
      "predicted personality: [1, 1, 0, 1, 1] 0 https://www.failory.com/interview/motionthink\n",
      "predicted personality: [1, 1, 0, 0, 1] 0 https://www.failory.com/interview/kolos\n",
      "predicted personality: [1, 1, 0, 0, 1] 1 https://www.failory.com/interview/branch\n",
      "predicted personality: [1, 1, 0, 0, 1] 1 https://www.failory.com/interview/scalefusion\n",
      "predicted personality: [1, 1, 0, 0, 1] 1 https://www.failory.com/interview/price2spy\n",
      "predicted personality: [1, 1, 0, 0, 1] 0 https://www.failory.com/interview/community-coders\n",
      "predicted personality: [0, 1, 1, 1, 1] 0 https://www.failory.com/interview/yottio\n",
      "predicted personality: [1, 1, 0, 0, 1] 1 https://www.failory.com/interview/patriot-chimney\n",
      "predicted personality: [1, 1, 0, 1, 1] 0 https://www.failory.com/interview/ansaro\n",
      "predicted personality: [1, 1, 0, 0, 1] 1 https://www.failory.com/interview/scrapingbee\n",
      "predicted personality: [1, 1, 0, 0, 1] 0 https://www.failory.com/interview/swipes\n",
      "predicted personality: [1, 1, 0, 1, 1] 1 https://www.failory.com/interview/crossnet\n",
      "predicted personality: [1, 1, 0, 0, 1] 0 https://www.failory.com/interview/playdate\n",
      "predicted personality: [0, 1, 0, 1, 1] 0 https://www.failory.com/interview/okami-pack\n",
      "predicted personality: [1, 1, 0, 1, 1] 0 https://www.failory.com/interview/gawkbox\n",
      "predicted personality: [1, 1, 0, 0, 1] 1 https://www.failory.com/interview/waydev\n",
      "predicted personality: [0, 1, 0, 1, 1] 0 https://www.failory.com/interview/vo2-sportswear\n",
      "predicted personality: [1, 1, 0, 0, 1] 0 https://www.failory.com/interview/sport-draftr\n",
      "predicted personality: [1, 1, 0, 0, 1] 1 https://www.failory.com/interview/mealsurfers\n",
      "predicted personality: [0, 1, 0, 1, 1] 0 https://www.failory.com/interview/tali\n",
      "predicted personality: [1, 1, 0, 1, 1] 0 https://www.failory.com/interview/gulp\n",
      "predicted personality: [1, 1, 1, 1, 1] 1 https://www.failory.com/interview/imaginovation\n",
      "predicted personality: [1, 1, 0, 0, 1] 0 https://www.failory.com/interview/readership\n",
      "predicted personality: [1, 1, 0, 0, 1] 1 https://www.failory.com/interview/flexiple\n",
      "predicted personality: [0, 1, 0, 0, 1] 1 https://www.failory.com/interview/mangools\n",
      "predicted personality: [1, 1, 1, 0, 1] 1 https://www.failory.com/interview/qwaiting\n",
      "predicted personality: [1, 1, 0, 0, 1] 1 https://www.failory.com/interview/stone\n",
      "predicted personality: [1, 1, 0, 0, 1] 0 https://www.failory.com/interview/mongoose-cricket\n",
      "predicted personality: [1, 1, 0, 0, 1] 1 https://www.failory.com/interview/standuply\n",
      "predicted personality: [1, 1, 0, 0, 1] 1 https://www.failory.com/interview/claimcompass\n",
      "predicted personality: [1, 1, 0, 0, 1] 1 https://www.failory.com/interview/justreachout\n",
      "predicted personality: [1, 1, 0, 1, 1] 0 https://www.failory.com/interview/140-canvas\n",
      "predicted personality: [1, 1, 0, 0, 1] 1 https://www.failory.com/interview/festivilia\n",
      "predicted personality: [1, 1, 0, 0, 1] 1 https://www.failory.com/interview/oneup\n",
      "predicted personality: [1, 1, 0, 0, 1] 0 https://www.failory.com/interview/singulution\n",
      "predicted personality: [1, 1, 0, 0, 1] 1 https://www.failory.com/interview/encharge\n",
      "predicted personality: [1, 1, 0, 0, 1] 1 https://www.failory.com/interview/narcine\n",
      "predicted personality: [1, 1, 0, 1, 1] 0 https://www.failory.com/interview/nox\n",
      "predicted personality: [1, 1, 0, 0, 1] 1 https://www.failory.com/interview/growthmentor\n"
     ]
    },
    {
     "name": "stdout",
     "output_type": "stream",
     "text": [
      "predicted personality: [1, 1, 0, 0, 1] 0 https://www.failory.com/interview/wedmap\n",
      "predicted personality: [1, 1, 0, 0, 1] 1 https://www.failory.com/interview/campertunity\n",
      "predicted personality: [1, 1, 0, 0, 1] 1 https://www.failory.com/interview/aura\n",
      "predicted personality: [1, 1, 0, 0, 1] 0 https://www.failory.com/interview/profitabilly\n",
      "predicted personality: [1, 1, 0, 1, 1] 1 https://www.failory.com/interview/rankd-seo\n",
      "predicted personality: [1, 1, 0, 1, 1] 1 https://www.failory.com/interview/emit\n",
      "predicted personality: [1, 1, 0, 0, 1] 0 https://www.failory.com/interview/tailor\n",
      "predicted personality: [1, 1, 0, 0, 1] 0 https://www.failory.com/interview/hubrif\n",
      "predicted personality: [1, 1, 0, 1, 1] 0 https://www.failory.com/interview/repitchbook\n",
      "predicted personality: [0, 1, 1, 1, 1] 1 https://www.failory.com/interview/nerdpilots\n",
      "predicted personality: [1, 1, 0, 0, 1] 1 https://www.failory.com/interview/growth-cave\n",
      "predicted personality: [1, 1, 0, 0, 1] 1 https://www.failory.com/interview/genm\n",
      "predicted personality: [1, 1, 0, 0, 1] 1 https://www.failory.com/interview/hyperstarter\n",
      "predicted personality: [1, 1, 0, 0, 1] 1 https://www.failory.com/interview/pagestead\n",
      "predicted personality: [1, 1, 0, 0, 1] 1 https://www.failory.com/interview/10er\n",
      "predicted personality: [0, 1, 0, 0, 1] 1 https://www.failory.com/interview/canary\n",
      "predicted personality: [1, 1, 0, 1, 1] 1 https://www.failory.com/interview/combat-flip-flops\n",
      "predicted personality: [1, 1, 0, 0, 1] 1 https://www.failory.com/interview/hubstaff\n",
      "predicted personality: [1, 1, 0, 0, 1] 1 https://www.failory.com/interview/pull-reminders\n",
      "predicted personality: [1, 1, 0, 0, 1] 1 https://www.failory.com/interview/lets-reach-success\n",
      "predicted personality: [0, 1, 0, 0, 1] 1 https://www.failory.com/interview/seomator\n",
      "predicted personality: [0, 1, 1, 0, 1] 1 https://www.failory.com/interview/metricspot\n",
      "predicted personality: [1, 1, 0, 1, 1] 1 https://www.failory.com/interview/pear-cards\n",
      "predicted personality: [0, 1, 0, 0, 1] 1 https://www.failory.com/interview/dick-at-your-door\n",
      "predicted personality: [1, 1, 0, 0, 1] 1 https://www.failory.com/interview/one-hour-professor\n",
      "predicted personality: [0, 1, 0, 0, 1] 1 https://www.failory.com/interview/40-aprons\n",
      "predicted personality: [1, 1, 0, 0, 1] 1 https://www.failory.com/interview/reroute-lifestyle\n",
      "predicted personality: [1, 1, 0, 0, 1] 1 https://www.failory.com/interview/leadsbridge\n",
      "predicted personality: [0, 1, 0, 0, 1] 1 https://www.failory.com/interview/beardbrand\n",
      "predicted personality: [1, 1, 0, 0, 1] 1 https://www.failory.com/interview/posture-keeper\n",
      "predicted personality: [1, 1, 0, 0, 1] 1 https://www.failory.com/interview/trackin\n",
      "predicted personality: [0, 1, 0, 1, 1] 1 https://www.failory.com/interview/joker-greeting\n",
      "predicted personality: [1, 1, 1, 1, 1] 1 https://www.failory.com/interview/browserless\n",
      "predicted personality: [1, 1, 0, 1, 1] 1 https://www.failory.com/interview/urban-masterclass\n",
      "predicted personality: [1, 1, 0, 0, 1] 1 https://www.failory.com/interview/iwantthatflight\n",
      "predicted personality: [1, 1, 0, 0, 1] 1 https://www.failory.com/interview/park-io\n",
      "predicted personality: [1, 1, 0, 0, 1] 1 https://www.failory.com/interview/matboard-and-more\n",
      "predicted personality: [1, 1, 1, 0, 1] 1 https://www.failory.com/interview/scream-pretty\n",
      "predicted personality: [1, 1, 0, 0, 1] 1 https://www.failory.com/interview/rayna-tours\n",
      "predicted personality: [1, 1, 0, 1, 1] 1 https://www.failory.com/interview/onak\n",
      "predicted personality: [0, 1, 0, 1, 1] 1 https://www.failory.com/interview/liveagent\n",
      "predicted personality: [0, 1, 0, 0, 1] 1 https://www.failory.com/interview/puppet-pelts\n",
      "predicted personality: [1, 1, 0, 0, 1] 1 https://www.failory.com/interview/gadget-flow\n",
      "predicted personality: [1, 1, 0, 0, 1] 1 https://www.failory.com/interview/content-snare\n",
      "predicted personality: [1, 1, 0, 0, 1] 1 https://www.failory.com/interview/bugfender\n",
      "predicted personality: [1, 1, 0, 0, 1] 1 https://www.failory.com/interview/spuds\n",
      "predicted personality: [1, 1, 0, 0, 1] 0 https://www.failory.com/interview/tandem-app\n",
      "predicted personality: [1, 1, 0, 0, 1] 0 https://www.failory.com/interview/wantremotejob\n",
      "predicted personality: [1, 1, 0, 0, 1] 0 https://www.failory.com/interview/lieferoo\n",
      "predicted personality: [1, 1, 0, 0, 1] 0 https://www.failory.com/interview/twitch-highlights\n",
      "predicted personality: [1, 1, 0, 0, 1] 0 https://www.failory.com/interview/jobridge\n",
      "predicted personality: [1, 1, 1, 0, 1] 0 https://www.failory.com/interview/haptly\n",
      "predicted personality: [0, 1, 0, 0, 1] 0 https://www.failory.com/interview/chowdy\n",
      "predicted personality: [1, 1, 0, 0, 1] 0 https://www.failory.com/interview/zor-technology\n",
      "predicted personality: [1, 1, 0, 0, 1] 0 https://www.failory.com/interview/the-punjab-kitchen\n",
      "predicted personality: [1, 1, 0, 0, 1] 0 https://www.failory.com/interview/taleship\n",
      "predicted personality: [1, 1, 0, 1, 1] 0 https://www.failory.com/interview/eventloot\n",
      "predicted personality: [0, 1, 0, 0, 1] 0 https://www.failory.com/interview/hashtag-pirate\n",
      "predicted personality: [1, 1, 0, 0, 1] 0 https://www.failory.com/interview/phez\n",
      "predicted personality: [1, 1, 0, 0, 1] 0 https://www.failory.com/interview/muun\n",
      "predicted personality: [0, 1, 0, 0, 1] 0 https://www.failory.com/interview/fantastic-house-buyers\n",
      "predicted personality: [1, 1, 0, 0, 1] 0 https://www.failory.com/interview/wura\n",
      "predicted personality: [1, 1, 0, 0, 1] 0 https://www.failory.com/interview/bediwin-information-services\n",
      "predicted personality: [1, 1, 0, 1, 1] 0 https://www.failory.com/interview/ink\n",
      "predicted personality: [1, 1, 0, 0, 1] 0 https://www.failory.com/interview/explorevr\n",
      "predicted personality: [1, 1, 0, 0, 1] 0 https://www.failory.com/interview/autto-in\n",
      "predicted personality: [1, 1, 0, 1, 1] 0 https://www.failory.com/interview/lockpick-entertainment\n",
      "predicted personality: [1, 1, 0, 0, 1] 0 https://www.failory.com/interview/worldos\n",
      "predicted personality: [1, 1, 1, 1, 1] 0 https://www.failory.com/interview/birdy\n",
      "predicted personality: [1, 1, 1, 0, 1] 0 https://www.failory.com/interview/motobox\n",
      "predicted personality: [1, 1, 0, 0, 1] 0 https://www.failory.com/interview/the-nerd-cave\n",
      "predicted personality: [1, 1, 0, 0, 1] 0 https://www.failory.com/interview/knownet\n",
      "predicted personality: [1, 1, 0, 0, 1] 0 https://www.failory.com/interview/legaats\n",
      "predicted personality: [0, 1, 0, 0, 1] 0 https://www.failory.com/interview/onepagetrip\n",
      "predicted personality: [0, 1, 1, 1, 1] 0 https://www.failory.com/interview/busymind\n",
      "predicted personality: [1, 1, 0, 0, 1] 0 https://www.failory.com/interview/botnim\n",
      "predicted personality: [1, 1, 0, 0, 1] 0 https://www.failory.com/interview/ropero\n",
      "predicted personality: [1, 1, 1, 1, 1] 0 https://www.failory.com/interview/gameslog\n",
      "predicted personality: [1, 1, 1, 0, 1] 0 https://www.failory.com/interview/abby\n",
      "predicted personality: [1, 1, 0, 0, 1] 0 https://www.failory.com/interview/beehiveid\n",
      "predicted personality: [1, 1, 0, 0, 1] 0 https://www.failory.com/interview/delite\n",
      "predicted personality: [1, 1, 0, 0, 1] 0 https://www.failory.com/interview/phoenix\n",
      "predicted personality: [1, 1, 1, 0, 1] 0 https://www.failory.com/interview/addressbin\n",
      "predicted personality: [1, 1, 0, 0, 1] 0 https://www.failory.com/interview/vivalatina\n",
      "predicted personality: [1, 1, 0, 1, 1] 0 https://www.failory.com/interview/mishra-motors\n",
      "predicted personality: [1, 1, 0, 0, 1] 0 https://www.failory.com/interview/team-voice\n",
      "predicted personality: [1, 1, 0, 0, 1] 0 https://www.failory.com/interview/quickhaggle\n",
      "predicted personality: [0, 1, 1, 1, 1] 0 https://www.failory.com/interview/boston-apartment-hub\n",
      "predicted personality: [1, 1, 0, 0, 1] 0 https://www.failory.com/interview/tandem\n",
      "predicted personality: [1, 1, 0, 0, 1] 0 https://www.failory.com/interview/toygaroo\n",
      "predicted personality: [1, 1, 0, 0, 1] 0 https://www.failory.com/interview/flux\n",
      "predicted personality: [1, 1, 0, 0, 1] 0 https://www.failory.com/interview/hot-barber\n",
      "predicted personality: [1, 1, 0, 0, 1] 0 https://www.failory.com/interview/brisk\n",
      "predicted personality: [1, 1, 0, 0, 1] 0 https://www.failory.com/interview/eloquis\n",
      "predicted personality: [1, 1, 0, 1, 1] 0 https://www.failory.com/interview/hitronasplet\n",
      "predicted personality: [0, 1, 0, 1, 1] 0 https://www.failory.com/interview/sharkius\n",
      "predicted personality: [1, 1, 0, 0, 1] 0 https://www.failory.com/interview/gymlisted\n"
     ]
    },
    {
     "name": "stdout",
     "output_type": "stream",
     "text": [
      "predicted personality: [1, 1, 0, 0, 1] 0 https://www.failory.com/interview/waterproof-digital-camera\n",
      "predicted personality: [1, 1, 0, 0, 1] 0 https://www.failory.com/interview/asktina\n",
      "predicted personality: [1, 1, 1, 0, 1] 0 https://www.failory.com/interview/the-blogging-manifesto\n",
      "predicted personality: [1, 1, 0, 0, 1] 0 https://www.failory.com/interview/howell-market\n"
     ]
    }
   ],
   "source": [
    "print(len(text_list))\n",
    "predictions_list = []\n",
    "for i in range(len(text_list)):\n",
    "    predictions = predict_personality(text_list[i][0][0])\n",
    "    predictions_list.append(predictions)\n",
    "    predictions_list.append(text_list[i][0][1])\n",
    "    print(\"predicted personality:\", predictions, text_list[i][0][1], text_list[i][1])\n",
    "# df = pd.DataFrame(dict(r=predictions, theta=['EXT','NEU','AGR', 'CON', 'OPN']))\n",
    "# fig = px.line_polar(df, r='r', theta='theta', line_close=True)\n",
    "# fig.show()"
   ]
  },
  {
   "cell_type": "code",
   "execution_count": 81,
   "metadata": {
    "scrolled": true
   },
   "outputs": [
    {
     "name": "stdout",
     "output_type": "stream",
     "text": [
      "predicted personality: [0, 1, 0, 1, 1] 0 https://www.failory.com/interview/denbertech\n",
      "predicted personality: [1, 1, 0, 0, 1] 0 https://www.failory.com/interview/starsync\n",
      "predicted personality: [1, 1, 0, 0, 1] 0 https://www.failory.com/interview/publoft\n",
      "predicted personality: [1, 1, 0, 1, 1] 0 https://www.failory.com/interview/benja\n",
      "predicted personality: [1, 1, 0, 0, 1] 0 https://www.failory.com/interview/observa\n",
      "predicted personality: [1, 1, 0, 0, 1] 0 https://www.failory.com/interview/weplate\n",
      "predicted personality: [1, 1, 0, 0, 1] 1 https://www.failory.com/interview/design-in-dc\n",
      "predicted personality: [1, 1, 0, 0, 1] 1 https://www.failory.com/interview/finmasters\n",
      "predicted personality: [1, 1, 0, 1, 1] 1 https://www.failory.com/interview/tweet-hunter\n",
      "predicted personality: [1, 1, 0, 0, 1] 1 https://www.failory.com/interview/woovly\n",
      "predicted personality: [1, 1, 0, 0, 1] 1 https://www.failory.com/interview/basetemplates\n",
      "predicted personality: [1, 1, 0, 0, 1] 0 https://www.failory.com/interview/sisu-academy\n",
      "predicted personality: [1, 1, 0, 0, 1] 1 https://www.failory.com/interview/corebook\n",
      "predicted personality: [1, 1, 0, 0, 1] 1 https://www.failory.com/interview/headlime\n",
      "predicted personality: [1, 1, 0, 0, 1] 1 https://www.failory.com/interview/plutoview\n",
      "predicted personality: [1, 1, 1, 1, 1] 1 https://www.failory.com/interview/fibery\n",
      "predicted personality: [1, 1, 0, 0, 1] 1 https://www.failory.com/interview/wotnot\n",
      "predicted personality: [1, 1, 0, 0, 1] 1 https://www.failory.com/interview/vimcal\n",
      "predicted personality: [0, 1, 0, 1, 1] 1 https://www.failory.com/interview/bildr\n",
      "predicted personality: [0, 1, 0, 0, 1] 1 https://www.failory.com/interview/reform\n",
      "predicted personality: [0, 1, 0, 0, 1] 1 https://www.failory.com/interview/photobooth-supply\n",
      "predicted personality: [1, 1, 0, 0, 1] 1 https://www.failory.com/interview/zenmaid\n",
      "predicted personality: [1, 1, 0, 0, 1] 1 https://www.failory.com/interview/upvoty\n",
      "predicted personality: [1, 1, 0, 1, 1] 1 https://www.failory.com/interview/gorails\n",
      "predicted personality: [0, 1, 0, 0, 1] 1 https://www.failory.com/interview/tactiq\n",
      "predicted personality: [1, 1, 0, 0, 1] 1 https://www.failory.com/interview/rize\n",
      "predicted personality: [1, 1, 0, 1, 1] 1 https://www.failory.com/interview/tally\n",
      "predicted personality: [0, 1, 0, 1, 1] 0 https://www.failory.com/interview/syria-airlift-project\n",
      "predicted personality: [1, 1, 0, 0, 1] 1 https://www.failory.com/interview/microconf\n",
      "predicted personality: [1, 1, 0, 1, 1] 1 https://www.failory.com/interview/zenoutreach\n",
      "predicted personality: [1, 1, 0, 0, 1] 1 https://www.failory.com/interview/mubert\n",
      "predicted personality: [1, 1, 0, 1, 1] 1 https://www.failory.com/interview/marketmuse\n",
      "predicted personality: [1, 1, 0, 1, 1] 1 https://www.failory.com/interview/headway\n",
      "predicted personality: [1, 1, 0, 0, 1] 1 https://www.failory.com/interview/inked-sports\n",
      "predicted personality: [1, 1, 0, 1, 1] 1 https://www.failory.com/interview/crabi\n",
      "predicted personality: [1, 1, 0, 1, 1] 1 https://www.failory.com/interview/snapshooter\n",
      "predicted personality: [1, 1, 0, 0, 1] 1 https://www.failory.com/interview/photopea\n",
      "predicted personality: [1, 1, 0, 1, 1] 0 https://www.failory.com/interview/siempo\n",
      "predicted personality: [0, 1, 0, 0, 1] 1 https://www.failory.com/interview/akko\n",
      "predicted personality: [1, 1, 0, 0, 1] 1 https://www.failory.com/interview/feedcheck\n",
      "predicted personality: [1, 1, 0, 0, 1] 1 https://www.failory.com/interview/manyrequests\n",
      "predicted personality: [1, 1, 0, 0, 1] 1 https://www.failory.com/interview/xena-intelligence\n",
      "predicted personality: [1, 1, 1, 1, 1] 1 https://www.failory.com/interview/css-for-js-developers\n",
      "predicted personality: [1, 1, 0, 1, 1] 1 https://www.failory.com/interview/zogics\n",
      "predicted personality: [0, 1, 0, 1, 1] 1 https://www.failory.com/interview/lifewave\n",
      "predicted personality: [1, 1, 0, 0, 1] 1 https://www.failory.com/interview/aplano\n",
      "predicted personality: [0, 1, 0, 0, 1] 1 https://www.failory.com/interview/ombori\n",
      "predicted personality: [1, 1, 0, 0, 1] 1 https://www.failory.com/interview/financer\n",
      "predicted personality: [1, 1, 0, 1, 1] 1 https://www.failory.com/interview/hawkers\n",
      "predicted personality: [1, 1, 0, 0, 1] 1 https://www.failory.com/interview/bizzbee\n",
      "predicted personality: [1, 1, 0, 0, 1] 1 https://www.failory.com/interview/leilo\n",
      "predicted personality: [1, 1, 0, 0, 1] 1 https://www.failory.com/interview/embarque\n",
      "predicted personality: [1, 1, 0, 0, 1] 0 https://www.failory.com/interview/freshconnect\n",
      "predicted personality: [1, 1, 0, 0, 1] 1 https://www.failory.com/interview/no-code-founders\n",
      "predicted personality: [1, 1, 0, 1, 1] 1 https://www.failory.com/interview/endeavorun\n",
      "predicted personality: [0, 1, 0, 1, 1] 1 https://www.failory.com/interview/frontend-mentor\n",
      "predicted personality: [1, 1, 0, 0, 1] 1 https://www.failory.com/interview/resumemaker\n",
      "predicted personality: [1, 1, 1, 0, 1] 1 https://www.failory.com/interview/locationrebel\n",
      "predicted personality: [1, 1, 0, 0, 1] 1 https://www.failory.com/interview/flexiple-2021\n",
      "predicted personality: [1, 1, 0, 1, 1] 1 https://www.failory.com/interview/edlatimore\n",
      "predicted personality: [1, 1, 0, 0, 1] 0 https://www.failory.com/interview/mycity\n",
      "predicted personality: [1, 1, 0, 1, 1] 1 https://www.failory.com/interview/blogging-for-devs\n",
      "predicted personality: [1, 1, 0, 1, 1] 0 https://www.failory.com/interview/patron-ai\n",
      "predicted personality: [1, 1, 0, 1, 1] 1 https://www.failory.com/interview/the-agent-nest\n",
      "predicted personality: [1, 1, 0, 0, 1] 0 https://www.failory.com/interview/raw-gains\n",
      "predicted personality: [1, 1, 0, 0, 1] 1 https://www.failory.com/interview/flexy\n",
      "predicted personality: [1, 1, 0, 1, 1] 0 https://www.failory.com/interview/adproval\n",
      "predicted personality: [1, 1, 0, 0, 1] 0 https://www.failory.com/interview/young-entrepreneurs-program\n",
      "predicted personality: [1, 1, 0, 0, 1] 1 https://www.failory.com/interview/strengthrunning\n",
      "predicted personality: [1, 1, 0, 0, 1] 1 https://www.failory.com/interview/viewst\n",
      "predicted personality: [0, 1, 1, 1, 1] 1 https://www.failory.com/interview/growsurf\n",
      "predicted personality: [1, 1, 1, 1, 1] 0 https://www.failory.com/interview/localtown\n",
      "predicted personality: [1, 1, 0, 0, 1] 1 https://www.failory.com/interview/bounce\n",
      "predicted personality: [1, 1, 0, 0, 1] 1 https://www.failory.com/interview/awesomic\n",
      "predicted personality: [1, 1, 1, 1, 1] 1 https://www.failory.com/interview/swagup\n",
      "predicted personality: [1, 1, 1, 1, 1] 1 https://www.failory.com/interview/mentorcruise\n",
      "predicted personality: [1, 1, 1, 1, 1] 1 https://www.failory.com/interview/impossible\n",
      "predicted personality: [1, 1, 0, 0, 1] 0 https://www.failory.com/interview/hello-tyro\n",
      "predicted personality: [1, 1, 0, 0, 1] 0 https://www.failory.com/interview/refolo\n",
      "predicted personality: [1, 1, 0, 1, 1] 1 https://www.failory.com/interview/copyai\n",
      "predicted personality: [1, 1, 1, 0, 1] 1 https://www.failory.com/interview/kimp\n",
      "predicted personality: [1, 1, 1, 1, 1] 0 https://www.failory.com/interview/pactero\n",
      "predicted personality: [1, 1, 0, 0, 1] 1 https://www.failory.com/interview/refrens\n",
      "predicted personality: [0, 1, 0, 0, 1] 1 https://www.failory.com/interview/qor360\n",
      "predicted personality: [1, 1, 0, 0, 1] 1 https://www.failory.com/interview/sinoficina\n",
      "predicted personality: [1, 1, 0, 0, 1] 0 https://www.failory.com/interview/openmargin\n",
      "predicted personality: [1, 1, 0, 0, 1] 0 https://www.failory.com/interview/cam-ly\n",
      "predicted personality: [1, 1, 0, 1, 1] 0 https://www.failory.com/interview/vacation-bird\n",
      "predicted personality: [1, 1, 0, 0, 1] 1 https://www.failory.com/interview/scraper-api\n",
      "predicted personality: [1, 1, 0, 1, 1] 1 https://www.failory.com/interview/cold-email-studio\n",
      "predicted personality: [1, 1, 1, 0, 1] 0 https://www.failory.com/interview/ringdaddy\n",
      "predicted personality: [1, 1, 0, 0, 1] 1 https://www.failory.com/interview/station\n",
      "predicted personality: [1, 1, 1, 0, 1] 0 https://www.failory.com/interview/juice-startup\n",
      "predicted personality: [1, 1, 0, 0, 1] 0 https://www.failory.com/interview/toki\n",
      "predicted personality: [1, 1, 1, 1, 1] 1 https://www.failory.com/interview/vidico\n",
      "predicted personality: [1, 0, 0, 0, 1] 0 https://www.failory.com/interview/reality-hunt\n",
      "predicted personality: [1, 1, 1, 1, 1] 0 https://www.failory.com/interview/creator-growth-lab\n",
      "predicted personality: [1, 1, 1, 0, 1] 1 https://www.failory.com/interview/salonist\n",
      "predicted personality: [1, 1, 0, 0, 1] 0 https://www.failory.com/interview/lernin-games\n"
     ]
    },
    {
     "name": "stdout",
     "output_type": "stream",
     "text": [
      "predicted personality: [1, 1, 0, 0, 1] 1 https://www.failory.com/interview/career-sidekick\n"
     ]
    }
   ],
   "source": [
    "for i in range(len(text_list)):\n",
    "    predictions = predict_personality(text_list[i][0][0])\n",
    "    print(\"predicted personality:\", predictions, text_list[i][0][1], text_list[i][1])\n",
    "# df = pd.DataFrame(dict(r=predictions, theta=['EXT','NEU','AGR', 'CON', 'OPN']))\n",
    "# fig = px.line_polar(df, r='r', theta='theta', line_close=True)\n",
    "# fig.show()"
   ]
  },
  {
   "cell_type": "code",
   "execution_count": 85,
   "metadata": {},
   "outputs": [
    {
     "data": {
      "text/plain": [
       "100"
      ]
     },
     "execution_count": 85,
     "metadata": {},
     "output_type": "execute_result"
    }
   ],
   "source": []
  },
  {
   "cell_type": "code",
   "execution_count": 22,
   "metadata": {},
   "outputs": [],
   "source": [
    "df=pd.DataFrame()"
   ]
  },
  {
   "cell_type": "code",
   "execution_count": 23,
   "metadata": {},
   "outputs": [
    {
     "name": "stdout",
     "output_type": "stream",
     "text": [
      "     ext  neu  agr  con  opn  success\n",
      "0    0.0  1.0  0.0  1.0  1.0      0.0\n",
      "1    1.0  1.0  0.0  0.0  1.0      0.0\n",
      "2    1.0  1.0  0.0  0.0  1.0      0.0\n",
      "3    1.0  1.0  0.0  1.0  1.0      0.0\n",
      "4    1.0  1.0  0.0  0.0  1.0      0.0\n",
      "..   ...  ...  ...  ...  ...      ...\n",
      "293  1.0  1.0  0.0  0.0  1.0      0.0\n",
      "294  1.0  1.0  0.0  0.0  1.0      0.0\n",
      "295  1.0  1.0  0.0  0.0  1.0      0.0\n",
      "296  1.0  1.0  1.0  0.0  1.0      0.0\n",
      "297  1.0  1.0  0.0  0.0  1.0      0.0\n",
      "\n",
      "[298 rows x 6 columns]\n"
     ]
    }
   ],
   "source": [
    "for i in range(len(text_list)):\n",
    "    predictions_ext = predict_personality_ext(text_list[i][0][0])\n",
    "    predictions_neu = predict_personality_neu(text_list[i][0][0])\n",
    "    predictions_agr = predict_personality_agr(text_list[i][0][0])\n",
    "    predictions_con = predict_personality_con(text_list[i][0][0])\n",
    "    predictions_opn = predict_personality_opn(text_list[i][0][0])\n",
    "    df.loc[i, 'ext'] = predictions_ext\n",
    "    df.loc[i, 'neu'] = predictions_neu\n",
    "    df.loc[i, 'agr'] = predictions_agr\n",
    "    df.loc[i, 'con'] = predictions_con\n",
    "    df.loc[i, 'opn'] = predictions_opn\n",
    "    df.loc[i, 'success'] = text_list[i][0][1]\n",
    "print(df)"
   ]
  },
  {
   "cell_type": "code",
   "execution_count": 26,
   "metadata": {},
   "outputs": [],
   "source": [
    "df['success'] = df['success'].astype(int)\n",
    "df['ext'] = df['ext'].astype(int)\n",
    "df['neu'] = df['neu'].astype(int)\n",
    "df['agr'] = df['agr'].astype(int)\n",
    "df['con'] = df['con'].astype(int)\n",
    "df['opn'] = df['opn'].astype(int)"
   ]
  },
  {
   "cell_type": "code",
   "execution_count": 27,
   "metadata": {},
   "outputs": [
    {
     "name": "stdout",
     "output_type": "stream",
     "text": [
      "     ext  neu  agr  con  opn  success\n",
      "0      0    1    0    1    1        0\n",
      "1      1    1    0    0    1        0\n",
      "2      1    1    0    0    1        0\n",
      "3      1    1    0    1    1        0\n",
      "4      1    1    0    0    1        0\n",
      "..   ...  ...  ...  ...  ...      ...\n",
      "293    1    1    0    0    1        0\n",
      "294    1    1    0    0    1        0\n",
      "295    1    1    0    0    1        0\n",
      "296    1    1    1    0    1        0\n",
      "297    1    1    0    0    1        0\n",
      "\n",
      "[298 rows x 6 columns]\n"
     ]
    }
   ],
   "source": [
    "print(df)"
   ]
  },
  {
   "cell_type": "code",
   "execution_count": 28,
   "metadata": {},
   "outputs": [],
   "source": [
    "import numpy as np"
   ]
  },
  {
   "cell_type": "code",
   "execution_count": 29,
   "metadata": {},
   "outputs": [
    {
     "data": {
      "text/html": [
       "<div>\n",
       "<style scoped>\n",
       "    .dataframe tbody tr th:only-of-type {\n",
       "        vertical-align: middle;\n",
       "    }\n",
       "\n",
       "    .dataframe tbody tr th {\n",
       "        vertical-align: top;\n",
       "    }\n",
       "\n",
       "    .dataframe thead th {\n",
       "        text-align: right;\n",
       "    }\n",
       "</style>\n",
       "<table border=\"1\" class=\"dataframe\">\n",
       "  <thead>\n",
       "    <tr style=\"text-align: right;\">\n",
       "      <th>success</th>\n",
       "      <th>0</th>\n",
       "      <th>1</th>\n",
       "    </tr>\n",
       "    <tr>\n",
       "      <th>ext</th>\n",
       "      <th></th>\n",
       "      <th></th>\n",
       "    </tr>\n",
       "  </thead>\n",
       "  <tbody>\n",
       "    <tr>\n",
       "      <th>0</th>\n",
       "      <td>16</td>\n",
       "      <td>26</td>\n",
       "    </tr>\n",
       "    <tr>\n",
       "      <th>1</th>\n",
       "      <td>113</td>\n",
       "      <td>143</td>\n",
       "    </tr>\n",
       "  </tbody>\n",
       "</table>\n",
       "</div>"
      ],
      "text/plain": [
       "success    0    1\n",
       "ext              \n",
       "0         16   26\n",
       "1        113  143"
      ]
     },
     "execution_count": 29,
     "metadata": {},
     "output_type": "execute_result"
    }
   ],
   "source": [
    "ext_corr = pd.crosstab(df['ext'], df['success'])\n",
    "ext_corr"
   ]
  },
  {
   "cell_type": "code",
   "execution_count": 30,
   "metadata": {},
   "outputs": [
    {
     "data": {
      "text/plain": [
       "-0.04245516385100116"
      ]
     },
     "execution_count": 30,
     "metadata": {},
     "output_type": "execute_result"
    }
   ],
   "source": [
    "(ext_corr[0][0]*ext_corr[1][1]-ext_corr[1][0]*ext_corr[0][1])/np.sqrt((ext_corr[0][0]+ext_corr[1][0])*(ext_corr[0][0]+ext_corr[0][1])*(ext_corr[1][1]+ext_corr[1][0])*(ext_corr[1][1]+ext_corr[0][1]))"
   ]
  },
  {
   "cell_type": "code",
   "execution_count": 32,
   "metadata": {},
   "outputs": [
    {
     "data": {
      "text/html": [
       "<div>\n",
       "<style scoped>\n",
       "    .dataframe tbody tr th:only-of-type {\n",
       "        vertical-align: middle;\n",
       "    }\n",
       "\n",
       "    .dataframe tbody tr th {\n",
       "        vertical-align: top;\n",
       "    }\n",
       "\n",
       "    .dataframe thead th {\n",
       "        text-align: right;\n",
       "    }\n",
       "</style>\n",
       "<table border=\"1\" class=\"dataframe\">\n",
       "  <thead>\n",
       "    <tr style=\"text-align: right;\">\n",
       "      <th>success</th>\n",
       "      <th>0</th>\n",
       "      <th>1</th>\n",
       "    </tr>\n",
       "    <tr>\n",
       "      <th>neu</th>\n",
       "      <th></th>\n",
       "      <th></th>\n",
       "    </tr>\n",
       "  </thead>\n",
       "  <tbody>\n",
       "    <tr>\n",
       "      <th>0</th>\n",
       "      <td>2</td>\n",
       "      <td>0</td>\n",
       "    </tr>\n",
       "    <tr>\n",
       "      <th>1</th>\n",
       "      <td>127</td>\n",
       "      <td>169</td>\n",
       "    </tr>\n",
       "  </tbody>\n",
       "</table>\n",
       "</div>"
      ],
      "text/plain": [
       "success    0    1\n",
       "neu              \n",
       "0          2    0\n",
       "1        127  169"
      ]
     },
     "execution_count": 32,
     "metadata": {},
     "output_type": "execute_result"
    }
   ],
   "source": [
    "neu_corr = pd.crosstab(df['neu'], df['success'])\n",
    "neu_corr"
   ]
  },
  {
   "cell_type": "code",
   "execution_count": 31,
   "metadata": {},
   "outputs": [
    {
     "data": {
      "text/plain": [
       "0.09408440429181075"
      ]
     },
     "execution_count": 31,
     "metadata": {},
     "output_type": "execute_result"
    }
   ],
   "source": [
    "(neu_corr[0][0]*neu_corr[1][1]-neu_corr[1][0]*neu_corr[0][1])/np.sqrt((neu_corr[0][0]+neu_corr[1][0])*(neu_corr[0][0]+neu_corr[0][1])*(neu_corr[1][1]+neu_corr[1][0])*(neu_corr[1][1]+neu_corr[0][1]))"
   ]
  },
  {
   "cell_type": "code",
   "execution_count": 33,
   "metadata": {},
   "outputs": [
    {
     "data": {
      "text/html": [
       "<div>\n",
       "<style scoped>\n",
       "    .dataframe tbody tr th:only-of-type {\n",
       "        vertical-align: middle;\n",
       "    }\n",
       "\n",
       "    .dataframe tbody tr th {\n",
       "        vertical-align: top;\n",
       "    }\n",
       "\n",
       "    .dataframe thead th {\n",
       "        text-align: right;\n",
       "    }\n",
       "</style>\n",
       "<table border=\"1\" class=\"dataframe\">\n",
       "  <thead>\n",
       "    <tr style=\"text-align: right;\">\n",
       "      <th>success</th>\n",
       "      <th>0</th>\n",
       "      <th>1</th>\n",
       "    </tr>\n",
       "    <tr>\n",
       "      <th>agr</th>\n",
       "      <th></th>\n",
       "      <th></th>\n",
       "    </tr>\n",
       "  </thead>\n",
       "  <tbody>\n",
       "    <tr>\n",
       "      <th>0</th>\n",
       "      <td>111</td>\n",
       "      <td>148</td>\n",
       "    </tr>\n",
       "    <tr>\n",
       "      <th>1</th>\n",
       "      <td>18</td>\n",
       "      <td>21</td>\n",
       "    </tr>\n",
       "  </tbody>\n",
       "</table>\n",
       "</div>"
      ],
      "text/plain": [
       "success    0    1\n",
       "agr              \n",
       "0        111  148\n",
       "1         18   21"
      ]
     },
     "execution_count": 33,
     "metadata": {},
     "output_type": "execute_result"
    }
   ],
   "source": [
    "agr_corr = pd.crosstab(df['agr'], df['success'])\n",
    "agr_corr"
   ]
  },
  {
   "cell_type": "code",
   "execution_count": 34,
   "metadata": {},
   "outputs": [
    {
     "data": {
      "text/plain": [
       "-0.0224400510454732"
      ]
     },
     "execution_count": 34,
     "metadata": {},
     "output_type": "execute_result"
    }
   ],
   "source": [
    "(agr_corr[0][0]*agr_corr[1][1]-agr_corr[1][0]*agr_corr[0][1])/np.sqrt((agr_corr[0][0]+agr_corr[1][0])*(agr_corr[0][0]+agr_corr[0][1])*(agr_corr[1][1]+agr_corr[1][0])*(agr_corr[1][1]+agr_corr[0][1]))"
   ]
  },
  {
   "cell_type": "code",
   "execution_count": 35,
   "metadata": {},
   "outputs": [
    {
     "data": {
      "text/html": [
       "<div>\n",
       "<style scoped>\n",
       "    .dataframe tbody tr th:only-of-type {\n",
       "        vertical-align: middle;\n",
       "    }\n",
       "\n",
       "    .dataframe tbody tr th {\n",
       "        vertical-align: top;\n",
       "    }\n",
       "\n",
       "    .dataframe thead th {\n",
       "        text-align: right;\n",
       "    }\n",
       "</style>\n",
       "<table border=\"1\" class=\"dataframe\">\n",
       "  <thead>\n",
       "    <tr style=\"text-align: right;\">\n",
       "      <th>success</th>\n",
       "      <th>0</th>\n",
       "      <th>1</th>\n",
       "    </tr>\n",
       "    <tr>\n",
       "      <th>con</th>\n",
       "      <th></th>\n",
       "      <th></th>\n",
       "    </tr>\n",
       "  </thead>\n",
       "  <tbody>\n",
       "    <tr>\n",
       "      <th>0</th>\n",
       "      <td>91</td>\n",
       "      <td>122</td>\n",
       "    </tr>\n",
       "    <tr>\n",
       "      <th>1</th>\n",
       "      <td>38</td>\n",
       "      <td>47</td>\n",
       "    </tr>\n",
       "  </tbody>\n",
       "</table>\n",
       "</div>"
      ],
      "text/plain": [
       "success   0    1\n",
       "con             \n",
       "0        91  122\n",
       "1        38   47"
      ]
     },
     "execution_count": 35,
     "metadata": {},
     "output_type": "execute_result"
    }
   ],
   "source": [
    "con_corr = pd.crosstab(df['con'], df['success'])\n",
    "con_corr"
   ]
  },
  {
   "cell_type": "code",
   "execution_count": 36,
   "metadata": {},
   "outputs": [
    {
     "data": {
      "text/plain": [
       "-0.018069951068747567"
      ]
     },
     "execution_count": 36,
     "metadata": {},
     "output_type": "execute_result"
    }
   ],
   "source": [
    "(con_corr[0][0]*con_corr[1][1]-con_corr[1][0]*con_corr[0][1])/np.sqrt((con_corr[0][0]+con_corr[1][0])*(con_corr[0][0]+con_corr[0][1])*(con_corr[1][1]+con_corr[1][0])*(con_corr[1][1]+con_corr[0][1]))"
   ]
  },
  {
   "cell_type": "code",
   "execution_count": 37,
   "metadata": {},
   "outputs": [
    {
     "data": {
      "text/html": [
       "<div>\n",
       "<style scoped>\n",
       "    .dataframe tbody tr th:only-of-type {\n",
       "        vertical-align: middle;\n",
       "    }\n",
       "\n",
       "    .dataframe tbody tr th {\n",
       "        vertical-align: top;\n",
       "    }\n",
       "\n",
       "    .dataframe thead th {\n",
       "        text-align: right;\n",
       "    }\n",
       "</style>\n",
       "<table border=\"1\" class=\"dataframe\">\n",
       "  <thead>\n",
       "    <tr style=\"text-align: right;\">\n",
       "      <th>success</th>\n",
       "      <th>0</th>\n",
       "      <th>1</th>\n",
       "    </tr>\n",
       "    <tr>\n",
       "      <th>opn</th>\n",
       "      <th></th>\n",
       "      <th></th>\n",
       "    </tr>\n",
       "  </thead>\n",
       "  <tbody>\n",
       "    <tr>\n",
       "      <th>1</th>\n",
       "      <td>129</td>\n",
       "      <td>169</td>\n",
       "    </tr>\n",
       "  </tbody>\n",
       "</table>\n",
       "</div>"
      ],
      "text/plain": [
       "success    0    1\n",
       "opn              \n",
       "1        129  169"
      ]
     },
     "execution_count": 37,
     "metadata": {},
     "output_type": "execute_result"
    }
   ],
   "source": [
    "opn_corr = pd.crosstab(df['opn'], df['success'])\n",
    "opn_corr"
   ]
  },
  {
   "cell_type": "code",
   "execution_count": 38,
   "metadata": {
    "scrolled": true
   },
   "outputs": [
    {
     "ename": "KeyError",
     "evalue": "0",
     "output_type": "error",
     "traceback": [
      "\u001b[1;31m---------------------------------------------------------------------------\u001b[0m",
      "\u001b[1;31mKeyError\u001b[0m                                  Traceback (most recent call last)",
      "File \u001b[1;32mC:\\ProgramData\\Anaconda\\lib\\site-packages\\pandas\\core\\indexes\\base.py:3802\u001b[0m, in \u001b[0;36mIndex.get_loc\u001b[1;34m(self, key, method, tolerance)\u001b[0m\n\u001b[0;32m   3801\u001b[0m \u001b[38;5;28;01mtry\u001b[39;00m:\n\u001b[1;32m-> 3802\u001b[0m     \u001b[38;5;28;01mreturn\u001b[39;00m \u001b[38;5;28;43mself\u001b[39;49m\u001b[38;5;241;43m.\u001b[39;49m\u001b[43m_engine\u001b[49m\u001b[38;5;241;43m.\u001b[39;49m\u001b[43mget_loc\u001b[49m\u001b[43m(\u001b[49m\u001b[43mcasted_key\u001b[49m\u001b[43m)\u001b[49m\n\u001b[0;32m   3803\u001b[0m \u001b[38;5;28;01mexcept\u001b[39;00m \u001b[38;5;167;01mKeyError\u001b[39;00m \u001b[38;5;28;01mas\u001b[39;00m err:\n",
      "File \u001b[1;32mC:\\ProgramData\\Anaconda\\lib\\site-packages\\pandas\\_libs\\index.pyx:138\u001b[0m, in \u001b[0;36mpandas._libs.index.IndexEngine.get_loc\u001b[1;34m()\u001b[0m\n",
      "File \u001b[1;32mC:\\ProgramData\\Anaconda\\lib\\site-packages\\pandas\\_libs\\index.pyx:165\u001b[0m, in \u001b[0;36mpandas._libs.index.IndexEngine.get_loc\u001b[1;34m()\u001b[0m\n",
      "File \u001b[1;32mpandas\\_libs\\hashtable_class_helper.pxi:2263\u001b[0m, in \u001b[0;36mpandas._libs.hashtable.Int64HashTable.get_item\u001b[1;34m()\u001b[0m\n",
      "File \u001b[1;32mpandas\\_libs\\hashtable_class_helper.pxi:2273\u001b[0m, in \u001b[0;36mpandas._libs.hashtable.Int64HashTable.get_item\u001b[1;34m()\u001b[0m\n",
      "\u001b[1;31mKeyError\u001b[0m: 0",
      "\nThe above exception was the direct cause of the following exception:\n",
      "\u001b[1;31mKeyError\u001b[0m                                  Traceback (most recent call last)",
      "Cell \u001b[1;32mIn[38], line 1\u001b[0m\n\u001b[1;32m----> 1\u001b[0m (\u001b[43mopn_corr\u001b[49m\u001b[43m[\u001b[49m\u001b[38;5;241;43m0\u001b[39;49m\u001b[43m]\u001b[49m\u001b[43m[\u001b[49m\u001b[38;5;241;43m0\u001b[39;49m\u001b[43m]\u001b[49m\u001b[38;5;241m*\u001b[39mopn_corr[\u001b[38;5;241m1\u001b[39m][\u001b[38;5;241m1\u001b[39m]\u001b[38;5;241m-\u001b[39mopn_corr[\u001b[38;5;241m1\u001b[39m][\u001b[38;5;241m0\u001b[39m]\u001b[38;5;241m*\u001b[39mopn_corr[\u001b[38;5;241m0\u001b[39m][\u001b[38;5;241m1\u001b[39m])\u001b[38;5;241m/\u001b[39mnp\u001b[38;5;241m.\u001b[39msqrt((opn_corr[\u001b[38;5;241m0\u001b[39m][\u001b[38;5;241m0\u001b[39m]\u001b[38;5;241m+\u001b[39mopn_corr[\u001b[38;5;241m1\u001b[39m][\u001b[38;5;241m0\u001b[39m])\u001b[38;5;241m*\u001b[39m(opn_corr[\u001b[38;5;241m0\u001b[39m][\u001b[38;5;241m0\u001b[39m]\u001b[38;5;241m+\u001b[39mopn_corr[\u001b[38;5;241m0\u001b[39m][\u001b[38;5;241m1\u001b[39m])\u001b[38;5;241m*\u001b[39m(opn_corr[\u001b[38;5;241m1\u001b[39m][\u001b[38;5;241m1\u001b[39m]\u001b[38;5;241m+\u001b[39mopn_corr[\u001b[38;5;241m1\u001b[39m][\u001b[38;5;241m0\u001b[39m])\u001b[38;5;241m*\u001b[39m(opn_corr[\u001b[38;5;241m1\u001b[39m][\u001b[38;5;241m1\u001b[39m]\u001b[38;5;241m+\u001b[39mopn_corr[\u001b[38;5;241m0\u001b[39m][\u001b[38;5;241m1\u001b[39m]))\n",
      "File \u001b[1;32mC:\\ProgramData\\Anaconda\\lib\\site-packages\\pandas\\core\\series.py:981\u001b[0m, in \u001b[0;36mSeries.__getitem__\u001b[1;34m(self, key)\u001b[0m\n\u001b[0;32m    978\u001b[0m     \u001b[38;5;28;01mreturn\u001b[39;00m \u001b[38;5;28mself\u001b[39m\u001b[38;5;241m.\u001b[39m_values[key]\n\u001b[0;32m    980\u001b[0m \u001b[38;5;28;01melif\u001b[39;00m key_is_scalar:\n\u001b[1;32m--> 981\u001b[0m     \u001b[38;5;28;01mreturn\u001b[39;00m \u001b[38;5;28;43mself\u001b[39;49m\u001b[38;5;241;43m.\u001b[39;49m\u001b[43m_get_value\u001b[49m\u001b[43m(\u001b[49m\u001b[43mkey\u001b[49m\u001b[43m)\u001b[49m\n\u001b[0;32m    983\u001b[0m \u001b[38;5;28;01mif\u001b[39;00m is_hashable(key):\n\u001b[0;32m    984\u001b[0m     \u001b[38;5;66;03m# Otherwise index.get_value will raise InvalidIndexError\u001b[39;00m\n\u001b[0;32m    985\u001b[0m     \u001b[38;5;28;01mtry\u001b[39;00m:\n\u001b[0;32m    986\u001b[0m         \u001b[38;5;66;03m# For labels that don't resolve as scalars like tuples and frozensets\u001b[39;00m\n",
      "File \u001b[1;32mC:\\ProgramData\\Anaconda\\lib\\site-packages\\pandas\\core\\series.py:1089\u001b[0m, in \u001b[0;36mSeries._get_value\u001b[1;34m(self, label, takeable)\u001b[0m\n\u001b[0;32m   1086\u001b[0m     \u001b[38;5;28;01mreturn\u001b[39;00m \u001b[38;5;28mself\u001b[39m\u001b[38;5;241m.\u001b[39m_values[label]\n\u001b[0;32m   1088\u001b[0m \u001b[38;5;66;03m# Similar to Index.get_value, but we do not fall back to positional\u001b[39;00m\n\u001b[1;32m-> 1089\u001b[0m loc \u001b[38;5;241m=\u001b[39m \u001b[38;5;28;43mself\u001b[39;49m\u001b[38;5;241;43m.\u001b[39;49m\u001b[43mindex\u001b[49m\u001b[38;5;241;43m.\u001b[39;49m\u001b[43mget_loc\u001b[49m\u001b[43m(\u001b[49m\u001b[43mlabel\u001b[49m\u001b[43m)\u001b[49m\n\u001b[0;32m   1090\u001b[0m \u001b[38;5;28;01mreturn\u001b[39;00m \u001b[38;5;28mself\u001b[39m\u001b[38;5;241m.\u001b[39mindex\u001b[38;5;241m.\u001b[39m_get_values_for_loc(\u001b[38;5;28mself\u001b[39m, loc, label)\n",
      "File \u001b[1;32mC:\\ProgramData\\Anaconda\\lib\\site-packages\\pandas\\core\\indexes\\base.py:3804\u001b[0m, in \u001b[0;36mIndex.get_loc\u001b[1;34m(self, key, method, tolerance)\u001b[0m\n\u001b[0;32m   3802\u001b[0m     \u001b[38;5;28;01mreturn\u001b[39;00m \u001b[38;5;28mself\u001b[39m\u001b[38;5;241m.\u001b[39m_engine\u001b[38;5;241m.\u001b[39mget_loc(casted_key)\n\u001b[0;32m   3803\u001b[0m \u001b[38;5;28;01mexcept\u001b[39;00m \u001b[38;5;167;01mKeyError\u001b[39;00m \u001b[38;5;28;01mas\u001b[39;00m err:\n\u001b[1;32m-> 3804\u001b[0m     \u001b[38;5;28;01mraise\u001b[39;00m \u001b[38;5;167;01mKeyError\u001b[39;00m(key) \u001b[38;5;28;01mfrom\u001b[39;00m \u001b[38;5;21;01merr\u001b[39;00m\n\u001b[0;32m   3805\u001b[0m \u001b[38;5;28;01mexcept\u001b[39;00m \u001b[38;5;167;01mTypeError\u001b[39;00m:\n\u001b[0;32m   3806\u001b[0m     \u001b[38;5;66;03m# If we have a listlike key, _check_indexing_error will raise\u001b[39;00m\n\u001b[0;32m   3807\u001b[0m     \u001b[38;5;66;03m#  InvalidIndexError. Otherwise we fall through and re-raise\u001b[39;00m\n\u001b[0;32m   3808\u001b[0m     \u001b[38;5;66;03m#  the TypeError.\u001b[39;00m\n\u001b[0;32m   3809\u001b[0m     \u001b[38;5;28mself\u001b[39m\u001b[38;5;241m.\u001b[39m_check_indexing_error(key)\n",
      "\u001b[1;31mKeyError\u001b[0m: 0"
     ]
    }
   ],
   "source": [
    "(opn_corr[0][0]*opn_corr[1][1]-opn_corr[1][0]*opn_corr[0][1])/np.sqrt((opn_corr[0][0]+opn_corr[1][0])*(opn_corr[0][0]+opn_corr[0][1])*(opn_corr[1][1]+opn_corr[1][0])*(opn_corr[1][1]+opn_corr[0][1]))"
   ]
  },
  {
   "cell_type": "code",
   "execution_count": 41,
   "metadata": {},
   "outputs": [],
   "source": [
    "df.to_csv('DidResearchenko.csv')"
   ]
  }
 ],
 "metadata": {
  "kernelspec": {
   "display_name": "Python 3 (ipykernel)",
   "language": "python",
   "name": "python3"
  },
  "language_info": {
   "codemirror_mode": {
    "name": "ipython",
    "version": 3
   },
   "file_extension": ".py",
   "mimetype": "text/x-python",
   "name": "python",
   "nbconvert_exporter": "python",
   "pygments_lexer": "ipython3",
   "version": "3.10.9"
  }
 },
 "nbformat": 4,
 "nbformat_minor": 2
}
